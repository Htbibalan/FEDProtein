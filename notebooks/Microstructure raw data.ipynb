{
 "cells": [
  {
   "cell_type": "code",
   "execution_count": 1,
   "id": "8e53ccb4-69d1-47ce-82db-62302fb8c18c",
   "metadata": {},
   "outputs": [],
   "source": [
    "import trompy as tp\n",
    "import matplotlib.pyplot as plt\n",
    "import seaborn as sns\n",
    "import pandas as pd"
   ]
  },
  {
   "cell_type": "code",
   "execution_count": 2,
   "id": "5e48929c-e96b-46d0-a7d3-430259bddddf",
   "metadata": {},
   "outputs": [
    {
     "name": "stdout",
     "output_type": "stream",
     "text": [
      "File is excel file. Making csv metafile first\n",
      "File is excel file. Making csv metafile first\n",
      "File is excel file. Making csv metafile first\n"
     ]
    }
   ],
   "source": [
    "%run ..//source//FED_functions.py"
   ]
  },
  {
   "cell_type": "code",
   "execution_count": 3,
   "id": "abd3aa7d-890f-4099-b7df-f4759663b8e7",
   "metadata": {},
   "outputs": [
    {
     "data": {
      "text/plain": [
       "dict_keys(['FEDXA01', 'FEDXA02', 'FEDXA03', 'FEDXA04', 'FEDXA05', 'FEDXA06', 'FEDXA07', 'FEDXA08', 'FEDXA09', 'FEDXA10', 'FEDXA11', 'FEDXA12', 'FEDXB01', 'FEDXB02', 'FEDXB03', 'FEDXB04', 'FEDXB05', 'FEDXB06', 'FEDXB07', 'FEDXB08', 'FEDXB10', 'FEDXB11', 'FEDXB12'])"
      ]
     },
     "execution_count": 3,
     "metadata": {},
     "output_type": "execute_result"
    }
   ],
   "source": [
    "mice.keys()"
   ]
  },
  {
   "cell_type": "code",
   "execution_count": 4,
   "id": "2aa29f31-2290-4cd4-9c86-1fa2a28f118c",
   "metadata": {},
   "outputs": [
    {
     "data": {
      "text/plain": [
       "dict_keys(['sex', 'order', 'grain_timestamps', 'pr_timestamps', 'nr_timestamps', 'bodyweight', 'hoarding', 'grain_avg_pellets', 'pr_avg_pellets', 'nr_avg_pellets', 'grain_pellets_per_day', 'pr_pellets_per_day', 'nr_pellets_per_day', 'all_pellets_per_day', 'interpellet_intervals_pr', 'intermeal_interval_pr', 'mealsize_pr', 'interpellet_intervals_nr', 'intermeal_interval_nr', 'mealsize_nr'])"
      ]
     },
     "execution_count": 4,
     "metadata": {},
     "output_type": "execute_result"
    }
   ],
   "source": [
    "mice[\"FEDXB01\"].keys()"
   ]
  },
  {
   "cell_type": "code",
   "execution_count": 5,
   "id": "1c5b0af3-df36-4257-9d65-25ed2b0eb765",
   "metadata": {},
   "outputs": [],
   "source": [
    "nrpr_male_selector = {\"order\": 1, \"sex\": \"M\"}\n",
    "prnr_male_selector = {\"order\": 2, \"sex\": \"M\"}\n",
    "nrpr_female_selector = {\"order\": 1, \"sex\": \"F\"}\n",
    "prnr_female_selector = {\"order\": 2, \"sex\": \"F\"} "
   ]
  },
  {
   "cell_type": "code",
   "execution_count": 6,
   "id": "2ec4a65d-e3bd-48d5-970e-7473ff52ed5e",
   "metadata": {},
   "outputs": [
    {
     "name": "stdout",
     "output_type": "stream",
     "text": [
      "6 items in output dictionary\n",
      "[[0.5181201956673659, 0.4636899188514358, 0.46933779051257557, 0.4414431075460492, 0.3625686846584002, 0.3555747126436783], [0.4457945205479456, 0.551035097597598, 0.3351008018327611, 0.44670776255707767, 0.2848606254856254, 0.31129807692307715]]\n",
      "6 items in output dictionary\n",
      "[[0.30308006535947696, 0.3161212998712999, 0.27009471766848797, 0.30469542362399493, 0.2675567356572261, 0.22796219455970468], [0.4507708333333333, 0.4421192854980318, 0.4026645833333339, 0.46078440656565695, 0.35742994100295, 0.37571812596006143]]\n",
      "5 items in output dictionary\n",
      "[[0.43187644675925907, 0.6358931623931627, 0.27573719726381996, 0.2636093390040756, 0.6557864792503347], [0.27950617283950563, 0.49032504145937, 0.2381111917432672, 0.268760718846926, 0.5844139194139191]]\n",
      "6 items in output dictionary\n",
      "[[0.2684954855352869, 0.2713389255592226, 0.2607228336827391, 0.2668584995251661, 0.2968453803265629, 0.32147606670998474], [0.3539824879227054, 0.48179898093359586, 0.32204545454545475, 0.48253224206349216, 0.3695604464509656, 0.3358264604811002]]\n"
     ]
    }
   ],
   "source": [
    "#Intermeal interval data\n",
    "\n",
    "IMInrpr_avg = get_data_fields(mice, [\"intermeal_interval_nr\", \"intermeal_interval_pr\"], nrpr_male_selector)\n",
    "print (IMInrpr_avg)\n",
    "IMIprnr_avg = get_data_fields(mice, [\"intermeal_interval_pr\", \"intermeal_interval_nr\"], prnr_male_selector)\n",
    "print(IMIprnr_avg)\n",
    "IMInrprf_avg = get_data_fields(mice, [\"intermeal_interval_nr\", \"intermeal_interval_pr\"], nrpr_female_selector)\n",
    "print(IMInrprf_avg)\n",
    "IMIprnrf_avg = get_data_fields(mice, [\"intermeal_interval_pr\", \"intermeal_interval_nr\"], prnr_female_selector)\n",
    "print(IMIprnrf_avg)"
   ]
  },
  {
   "cell_type": "code",
   "execution_count": 8,
   "id": "61462963-2d32-4809-a04e-b9bf66c6ac49",
   "metadata": {},
   "outputs": [
    {
     "name": "stdout",
     "output_type": "stream",
     "text": [
      "[[0.2684954855352869, 0.2713389255592226, 0.2607228336827391, 0.2668584995251661, 0.2968453803265629, 0.32147606670998474], [0.3539824879227054, 0.48179898093359586, 0.32204545454545475, 0.48253224206349216, 0.3695604464509656, 0.3358264604811002]]\n"
     ]
    }
   ],
   "source": [
    "print (IMIprnrf_avg)\n"
   ]
  },
  {
   "cell_type": "code",
   "execution_count": null,
   "id": "abe42fa1-96a4-4d1b-8e9b-261342116494",
   "metadata": {},
   "outputs": [],
   "source": []
  },
  {
   "cell_type": "code",
   "execution_count": 9,
   "id": "81f94d92-b5c1-407c-a330-1e0f8e9fc623",
   "metadata": {},
   "outputs": [
    {
     "name": "stdout",
     "output_type": "stream",
     "text": [
      "6 items in output dictionary\n",
      "[[4.135220125786163, 3.6376404494382024, 3.805157593123209, 3.783422459893048, 3.0043763676148796, 3.0797413793103448], [3.5013698630136987, 3.679054054054054, 2.975257731958763, 3.5424657534246577, 2.452797202797203, 3.1615384615384614]]\n",
      "6 items in output dictionary\n",
      "[[2.5441176470588234, 2.675675675675676, 2.6885245901639343, 2.7810760667903525, 2.5392156862745097, 2.060857538035961], [4.461111111111111, 3.5885558583106265, 4.965, 4.857954545454546, 3.911504424778761, 3.2327188940092166]]\n",
      "5 items in output dictionary\n",
      "[[3.7760416666666665, 5.053846153846154, 2.492512479201331, 2.0239234449760763, 5.349397590361446], [3.0746527777777777, 3.955223880597015, 2.309143686502177, 1.8423645320197044, 4.897435897435898]]\n",
      "6 items in output dictionary\n",
      "[[2.3101160862354893, 2.3745874587458746, 2.3364779874213837, 2.1794871794871793, 2.5197132616487457, 2.516569200779727], [3.006521739130435, 3.56508875739645, 2.8596837944664033, 4.288690476190476, 3.309255079006772, 3.7896907216494844]]\n"
     ]
    }
   ],
   "source": [
    "#meal size\n",
    "\n",
    "\n",
    "IPInrpr_avg = get_data_fields(mice, [\"mealsize_nr\", \"mealsize_pr\"], nrpr_male_selector)\n",
    "print (IPInrpr_avg)\n",
    "IPIprnr_avg = get_data_fields(mice, [\"mealsize_pr\", \"mealsize_nr\"], prnr_male_selector)\n",
    "print(IPIprnr_avg)\n",
    "IPInrprf_avg = get_data_fields(mice, [\"mealsize_nr\", \"mealsize_pr\"], nrpr_female_selector)\n",
    "print(IPInrprf_avg)\n",
    "IPIprnrf_avg = get_data_fields(mice, [\"mealsize_pr\", \"mealsize_nr\"], prnr_female_selector)\n",
    "print(IPIprnrf_avg)"
   ]
  },
  {
   "cell_type": "code",
   "execution_count": 10,
   "id": "3dd7c993-ce88-42c3-99ba-7821fe4b83b4",
   "metadata": {},
   "outputs": [
    {
     "name": "stdout",
     "output_type": "stream",
     "text": [
      "6 items in output dictionary\n",
      "[[array([5.44444444e-02, 4.19444444e-02, 1.25777778e+00, ...,\n",
      "       3.05555556e-03, 2.77777778e-04, 4.72222222e-03]), array([5.55555556e-04, 1.15000000e-01, 1.01111111e-01, ...,\n",
      "       3.88888889e-03, 8.86111111e-01, 3.88888889e-03]), array([0.00694444, 0.03472222, 0.01277778, ..., 0.005     , 0.66916667,\n",
      "       0.00722222]), array([0.26111111, 0.11277778, 0.05277778, ..., 0.30777778, 0.00194444,\n",
      "       0.00305556]), array([0.03055556, 0.00972222, 0.02611111, ..., 0.0125    , 0.00305556,\n",
      "       0.00305556]), array([0.095     , 0.00944444, 0.01277778, ..., 0.04111111, 0.00638889,\n",
      "       0.00222222])], [array([0.03      , 0.08416667, 0.00388889, ..., 0.00416667, 0.00388889,\n",
      "       0.20527778]), array([0.05388889, 0.02      , 0.345     , ..., 0.02      , 0.26805556,\n",
      "       0.00388889]), array([0.01388889, 0.01305556, 0.00472222, ..., 0.00333333, 0.00361111,\n",
      "       0.00583333]), array([0.00305556, 0.09444444, 1.47333333, ..., 0.00305556, 0.09277778,\n",
      "       0.1025    ]), array([0.06138889, 1.35861111, 0.02416667, ..., 0.5675    , 0.17277778,\n",
      "       0.13722222]), array([0.00361111, 0.0425    , 0.03111111, ..., 0.36111111, 0.00888889,\n",
      "       0.29416667])]]\n",
      "6 items in output dictionary\n",
      "[[array([0.03083333, 0.00611111, 0.00611111, ..., 0.00444444, 0.00722222,\n",
      "       0.01416667]), array([0.085     , 0.        , 0.00972222, ..., 0.00194444, 0.00416667,\n",
      "       0.00416667]), array([6.93055556e-01, 6.94444444e-03, 8.25555556e-01, ...,\n",
      "       6.38888889e-03, 3.33333333e-03, 5.55555556e-04]), array([0.04611111, 0.03611111, 0.69944444, ..., 0.00472222, 0.00527778,\n",
      "       0.00694444]), array([0.04583333, 0.04277778, 0.94972222, ..., 0.00388889, 0.00527778,\n",
      "       0.00472222]), array([0.08111111, 0.09333333, 0.01138889, ..., 0.00472222, 0.90083333,\n",
      "       0.22833333])], [array([0.00333333, 0.0025    , 0.00277778, ..., 0.00361111, 0.00416667,\n",
      "       0.00416667]), array([0.01527778, 0.00777778, 0.03805556, ..., 0.005     , 0.135     ,\n",
      "       0.00666667]), array([0.00722222, 0.00166667, 0.00277778, ..., 0.00388889, 0.00416667,\n",
      "       0.00416667]), array([1.27777778e-02, 1.94444444e-03, 4.16666667e-03, ...,\n",
      "       3.61111111e-03, 4.44444444e-03, 2.10222222e+00]), array([0.03416667, 0.00388889, 0.00666667, ..., 0.00027778, 0.00333333,\n",
      "       0.00416667]), array([0.00027778, 0.02972222, 0.025     , ..., 0.00027778, 0.00388889,\n",
      "       0.00388889])]]\n",
      "5 items in output dictionary\n",
      "[[array([0.01111111, 0.00055556, 0.05611111, ..., 0.19083333, 0.0025    ,\n",
      "       0.0025    ]), array([0.00027778, 0.00472222, 0.07694444, ..., 0.00305556, 0.005     ,\n",
      "       0.00194444]), array([0.00416667, 0.96527778, 0.00416667, ..., 0.00305556, 0.28305556,\n",
      "       0.08888889]), array([0.00416667, 0.17027778, 0.00138889, ..., 0.15611111, 0.405     ,\n",
      "       0.00472222]), array([0.005     , 0.00027778, 0.06694444, ..., 0.00333333, 0.00444444,\n",
      "       0.00361111])], [array([0.00111111, 0.06027778, 0.00361111, ..., 0.43833333, 0.00444444,\n",
      "       0.00861111]), array([1.02361111, 0.00333333, 0.01666667, ..., 0.00305556, 0.00444444,\n",
      "       0.96027778]), array([0.00416667, 0.73722222, 0.09638889, ..., 0.04527778, 0.56444444,\n",
      "       0.0025    ]), array([8.59722222e-01, 2.77777778e-04, 6.05555556e-02, ...,\n",
      "       1.72222222e-02, 4.72222222e-03, 6.11111111e-03]), array([0.1875    , 0.00416667, 0.00388889, ..., 0.00472222, 0.00472222,\n",
      "       0.005     ])]]\n",
      "6 items in output dictionary\n",
      "[[array([3.33333333e-03, 1.55916667e+00, 2.77777778e-04, ...,\n",
      "       6.94444444e-03, 7.50000000e-03, 2.20555556e-01]), array([5.55555556e-04, 3.61111111e-03, 3.30083333e+00, ...,\n",
      "       6.08333333e-02, 5.00000000e-03, 4.44444444e-03]), array([0.05166667, 0.07194444, 0.07611111, ..., 0.03194444, 0.00277778,\n",
      "       0.00388889]), array([0.03194444, 0.00666667, 0.0025    , ..., 0.00666667, 0.00611111,\n",
      "       0.0075    ]), array([0.13083333, 0.09944444, 0.00083333, ..., 0.26444444, 0.00361111,\n",
      "       0.00527778]), array([0.00027778, 0.00333333, 0.20027778, ..., 0.0025    , 0.02972222,\n",
      "       0.00333333])], [array([2.77777778e-04, 2.44444444e-02, 5.70833333e-01, ...,\n",
      "       4.72222222e-03, 1.97222222e-02, 8.05555556e-03]), array([0.005     , 0.00861111, 0.00527778, ..., 0.005     , 0.005     ,\n",
      "       0.00472222]), array([0.00027778, 0.00666667, 0.00305556, ..., 0.00305556, 0.00361111,\n",
      "       0.00305556]), array([0.00333333, 0.03388889, 0.04166667, ..., 0.00388889, 0.005     ,\n",
      "       0.00361111]), array([0.00388889, 0.00472222, 0.00555556, ..., 0.005     , 0.015     ,\n",
      "       0.01027778]), array([0.00333333, 0.00361111, 0.00222222, ..., 0.00555556, 0.00361111,\n",
      "       0.00027778])]]\n"
     ]
    }
   ],
   "source": [
    "#Interpellet Intervals\n",
    "IPInrpr_avg = get_data_fields(mice, [\"interpellet_intervals_nr\", \"interpellet_intervals_pr\"], nrpr_male_selector)\n",
    "print (IPInrpr_avg)\n",
    "IPIprnr_avg = get_data_fields(mice, [\"interpellet_intervals_pr\", \"interpellet_intervals_nr\"], prnr_male_selector)\n",
    "print(IPIprnr_avg)\n",
    "IPInrprf_avg = get_data_fields(mice, [\"interpellet_intervals_nr\", \"interpellet_intervals_pr\"], nrpr_female_selector)\n",
    "print(IPInrprf_avg)\n",
    "IPIprnrf_avg = get_data_fields(mice, [\"interpellet_intervals_pr\", \"interpellet_intervals_nr\"], prnr_female_selector)\n",
    "print(IPIprnrf_avg)"
   ]
  },
  {
   "cell_type": "code",
   "execution_count": null,
   "id": "b3371984-a7bc-4ccc-a06d-e7bf783c6ff9",
   "metadata": {},
   "outputs": [],
   "source": []
  },
  {
   "cell_type": "code",
   "execution_count": 11,
   "id": "9b9195a3-af3c-47ea-98f5-2c99b124ad00",
   "metadata": {},
   "outputs": [
    {
     "name": "stdout",
     "output_type": "stream",
     "text": [
      "6 items in output dictionary\n",
      "[[283, 269, 193, 177, 189, 181, 165, 182, 205, 189, 142, 167, 168, 188, 198, 201, 196], [305, 233, 223, 168, 208, 208, 170, 162, 182, 182, 133, 149, 151, 150, 174, 145, 165], [302, 192, 191, 163, 167, 178, 192, 197, 193, 211, 151, 188, 201, 211, 242, 255, 176], [199, 267, 214, 171, 200, 214, 205, 208, 207, 187, 153, 160, 193, 187, 192, 189, 200], [307, 249, 226, 204, 164, 197, 208, 195, 183, 188, 149, 84, 211, 234, 225, 251, 231], [237, 201, 224, 197, 198, 191, 188, 192, 215, 217, 169, 239, 257, 261, 244, 217, 233]]\n",
      "6 items in output dictionary\n",
      "[[340, 271, 224, 161, 155, 176, 184, 215, 231, 240, 246, 234, 222, 211, 241, 223, 219], [304, 214, 194, 154, 153, 204, 211, 203, 226, 214, 225, 171, 195, 172, 182, 175, 181], [244, 243, 206, 147, 149, 171, 247, 293, 280, 318, 352, 351, 279, 288, 251, 222, 228], [282, 267, 201, 164, 144, 168, 176, 252, 272, 305, 293, 267, 240, 210, 239, 239, 215], [227, 236, 227, 154, 167, 204, 220, 253, 249, 279, 267, 259, 254, 267, 238, 239, 219], [220, 337, 7, 215, 180, 199, 202, 224, 215, 240, 228, 211, 184, 204, 193, 177, 187]]\n",
      "5 items in output dictionary\n",
      "[[300, 206, 257, 207, 190, 216, 196, 224, 210, 190, 147, 219, 265, 255, 288, 285, 291], [161, 250, 175, 178, 183, 192, 173, 172, 211, 181, 149, 210, 176, 175, 182, 219, 188], [254, 211, 217, 164, 177, 226, 212, 235, 235, 225, 212, 270, 241, 192, 172, 221, 242], [272, 229, 245, 160, 165, 178, 185, 201, 190, 171, 143, 187, 129, 137, 140, 177, 183], [225, 233, 219, 171, 193, 182, 184, 220, 189, 174, 153, 194, 177, 176, 184, 224, 201]]\n",
      "6 items in output dictionary\n",
      "[[206, 282, 251, 98, 154, 219, 232, 244, 255, 185, 245, 214, 168, 158, 148, 215, 221], [232, 233, 185, 213, 232, 272, 150, 185, 192, 167, 184, 199, 153, 148, 118, 192, 198], [86, 235, 198, 131, 145, 220, 220, 254, 284, 207, 240, 239, 232, 188, 182, 168, 173], [157, 182, 194, 97, 156, 200, 197, 191, 206, 216, 233, 245, 206, 190, 164, 199, 178], [301, 210, 176, 155, 158, 203, 203, 203, 250, 222, 237, 218, 210, 187, 158, 208, 223], [335, 198, 226, 134, 138, 212, 208, 216, 203, 168, 138, 313, 237, 239, 245, 335, 305]]\n"
     ]
    }
   ],
   "source": [
    "#All pellets per day\n",
    "\n",
    "\n",
    "nrpr_m = get_data_fields(mice, [\"all_pellets_per_day\"], nrpr_male_selector)\n",
    "print (nrpr_m)\n",
    "prnr_m = get_data_fields(mice, [\"all_pellets_per_day\"], prnr_male_selector)\n",
    "print(prnr_m)\n",
    "nrpr_f = get_data_fields(mice, [\"all_pellets_per_day\"], nrpr_female_selector)\n",
    "print(nrpr_f)\n",
    "prnr_f = get_data_fields(mice, [\"all_pellets_per_day\"], prnr_female_selector)\n",
    "print(prnr_f)"
   ]
  },
  {
   "cell_type": "code",
   "execution_count": 12,
   "id": "0bbdae7e-fc9f-41ea-a2c5-89ab4a032951",
   "metadata": {},
   "outputs": [
    {
     "name": "stdout",
     "output_type": "stream",
     "text": [
      "6 items in output dictionary\n",
      "[[187.85714285714286, 185.0, 189.71428571428572, 202.14285714285714, 196.14285714285714, 204.14285714285714], [182.57142857142858, 155.57142857142858, 206.14285714285714, 184.71428571428572, 200.42857142857142, 234.85714285714286]]\n",
      "6 items in output dictionary\n",
      "[[197.71428571428572, 198.0, 234.28571428571428, 214.14285714285714, 222.0, 212.85714285714286], [229.42857142857142, 188.14285714285714, 283.7142857142857, 244.28571428571428, 252.57142857142858, 200.42857142857142]]\n",
      "5 items in output dictionary\n",
      "[[207.14285714285714, 187.71428571428572, 214.0, 181.28571428571428, 190.28571428571428], [253.0, 189.28571428571428, 227.28571428571428, 160.28571428571428, 191.0]]\n",
      "6 items in output dictionary\n",
      "[[199.0, 205.57142857142858, 212.28571428571428, 182.14285714285714, 200.85714285714286, 184.42857142857142], [197.57142857142858, 172.14285714285714, 206.71428571428572, 205.85714285714286, 209.42857142857142, 262.57142857142856]]\n"
     ]
    }
   ],
   "source": [
    "#Average Pellets\n",
    "nrpr_avg = get_data_fields(mice, [\"nr_avg_pellets\", \"pr_avg_pellets\"], nrpr_male_selector)\n",
    "print(nrpr_avg)\n",
    "prnr_avg = get_data_fields(mice, [\"pr_avg_pellets\", \"nr_avg_pellets\"], prnr_male_selector)\n",
    "print(prnr_avg)\n",
    "nrprf_avg = get_data_fields(mice, [\"nr_avg_pellets\", \"pr_avg_pellets\"], nrpr_female_selector)\n",
    "print(nrprf_avg)\n",
    "prnrf_avg = get_data_fields(mice, [\"pr_avg_pellets\", \"nr_avg_pellets\"], prnr_female_selector)\n",
    "print(prnrf_avg)"
   ]
  },
  {
   "cell_type": "code",
   "execution_count": null,
   "id": "063dfae7-0e76-44e4-b4ec-fed8e4692763",
   "metadata": {},
   "outputs": [],
   "source": []
  },
  {
   "cell_type": "code",
   "execution_count": null,
   "id": "2c102a5f-8165-4f06-b05c-28eff3184b99",
   "metadata": {},
   "outputs": [],
   "source": []
  },
  {
   "cell_type": "code",
   "execution_count": null,
   "id": "623a4209-d8af-4824-8b1a-5a9b820a54e6",
   "metadata": {},
   "outputs": [],
   "source": []
  },
  {
   "cell_type": "code",
   "execution_count": null,
   "id": "066955e4-a5eb-472b-ac74-9f0561eebe1b",
   "metadata": {},
   "outputs": [],
   "source": []
  },
  {
   "cell_type": "code",
   "execution_count": null,
   "id": "8dcbb59f-b8c2-4437-b25c-93e07bb62658",
   "metadata": {},
   "outputs": [],
   "source": []
  },
  {
   "cell_type": "code",
   "execution_count": null,
   "id": "285dde11-8b36-42ad-9250-74cefa1102c4",
   "metadata": {},
   "outputs": [],
   "source": []
  },
  {
   "cell_type": "code",
   "execution_count": null,
   "id": "e9c6c9db-be8c-465b-960b-8fc2a0066420",
   "metadata": {},
   "outputs": [],
   "source": []
  }
 ],
 "metadata": {
  "kernelspec": {
   "display_name": "Python 3 (ipykernel)",
   "language": "python",
   "name": "python3"
  },
  "language_info": {
   "codemirror_mode": {
    "name": "ipython",
    "version": 3
   },
   "file_extension": ".py",
   "mimetype": "text/x-python",
   "name": "python",
   "nbconvert_exporter": "python",
   "pygments_lexer": "ipython3",
   "version": "3.9.13"
  }
 },
 "nbformat": 4,
 "nbformat_minor": 5
}
