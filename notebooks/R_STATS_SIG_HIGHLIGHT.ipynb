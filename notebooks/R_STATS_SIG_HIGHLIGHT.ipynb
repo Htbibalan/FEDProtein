{
 "cells": [
  {
   "cell_type": "code",
   "execution_count": 18,
   "metadata": {},
   "outputs": [
    {
     "ename": "PermissionError",
     "evalue": "[Errno 13] Permission denied: 'C:\\\\Users\\\\hta031\\\\Github\\\\FEDProtein\\\\results\\\\ULTIMATE_HOURLY_R(HEATMAPS)\\\\MEAL_SNACK_MEGA_MEAL\\\\STATS_HIGHLIGHT'",
     "output_type": "error",
     "traceback": [
      "\u001b[1;31m---------------------------------------------------------------------------\u001b[0m",
      "\u001b[1;31mPermissionError\u001b[0m                           Traceback (most recent call last)",
      "Cell \u001b[1;32mIn[18], line 20\u001b[0m\n\u001b[0;32m     17\u001b[0m         \u001b[38;5;28;01mpass\u001b[39;00m  \u001b[38;5;66;03m# If it's not a number, continue\u001b[39;00m\n\u001b[0;32m     19\u001b[0m \u001b[38;5;66;03m# Write the modified content to a new file\u001b[39;00m\n\u001b[1;32m---> 20\u001b[0m \u001b[38;5;28;01mwith\u001b[39;00m \u001b[38;5;28mopen\u001b[39m(\u001b[38;5;124mr\u001b[39m\u001b[38;5;124m\"\u001b[39m\u001b[38;5;124mC:\u001b[39m\u001b[38;5;124m\\\u001b[39m\u001b[38;5;124mUsers\u001b[39m\u001b[38;5;124m\\\u001b[39m\u001b[38;5;124mhta031\u001b[39m\u001b[38;5;124m\\\u001b[39m\u001b[38;5;124mGithub\u001b[39m\u001b[38;5;124m\\\u001b[39m\u001b[38;5;124mFEDProtein\u001b[39m\u001b[38;5;124m\\\u001b[39m\u001b[38;5;124mresults\u001b[39m\u001b[38;5;124m\\\u001b[39m\u001b[38;5;124mULTIMATE_HOURLY_R(HEATMAPS)\u001b[39m\u001b[38;5;124m\\\u001b[39m\u001b[38;5;124mMEAL_SNACK_MEGA_MEAL\u001b[39m\u001b[38;5;124m\\\u001b[39m\u001b[38;5;124mSTATS_HIGHLIGHT\u001b[39m\u001b[38;5;124m\"\u001b[39m, \u001b[38;5;124m\"\u001b[39m\u001b[38;5;124mw\u001b[39m\u001b[38;5;124m\"\u001b[39m) \u001b[38;5;28;01mas\u001b[39;00m output_file:\n\u001b[0;32m     21\u001b[0m     output_file\u001b[38;5;241m.\u001b[39mwrite(content)\n",
      "File \u001b[1;32mc:\\Users\\hta031\\AppData\\Local\\miniconda3\\envs\\DATA\\Lib\\site-packages\\IPython\\core\\interactiveshell.py:310\u001b[0m, in \u001b[0;36m_modified_open\u001b[1;34m(file, *args, **kwargs)\u001b[0m\n\u001b[0;32m    303\u001b[0m \u001b[38;5;28;01mif\u001b[39;00m file \u001b[38;5;129;01min\u001b[39;00m {\u001b[38;5;241m0\u001b[39m, \u001b[38;5;241m1\u001b[39m, \u001b[38;5;241m2\u001b[39m}:\n\u001b[0;32m    304\u001b[0m     \u001b[38;5;28;01mraise\u001b[39;00m \u001b[38;5;167;01mValueError\u001b[39;00m(\n\u001b[0;32m    305\u001b[0m         \u001b[38;5;124mf\u001b[39m\u001b[38;5;124m\"\u001b[39m\u001b[38;5;124mIPython won\u001b[39m\u001b[38;5;124m'\u001b[39m\u001b[38;5;124mt let you open fd=\u001b[39m\u001b[38;5;132;01m{\u001b[39;00mfile\u001b[38;5;132;01m}\u001b[39;00m\u001b[38;5;124m by default \u001b[39m\u001b[38;5;124m\"\u001b[39m\n\u001b[0;32m    306\u001b[0m         \u001b[38;5;124m\"\u001b[39m\u001b[38;5;124mas it is likely to crash IPython. If you know what you are doing, \u001b[39m\u001b[38;5;124m\"\u001b[39m\n\u001b[0;32m    307\u001b[0m         \u001b[38;5;124m\"\u001b[39m\u001b[38;5;124myou can use builtins\u001b[39m\u001b[38;5;124m'\u001b[39m\u001b[38;5;124m open.\u001b[39m\u001b[38;5;124m\"\u001b[39m\n\u001b[0;32m    308\u001b[0m     )\n\u001b[1;32m--> 310\u001b[0m \u001b[38;5;28;01mreturn\u001b[39;00m io_open(file, \u001b[38;5;241m*\u001b[39margs, \u001b[38;5;241m*\u001b[39m\u001b[38;5;241m*\u001b[39mkwargs)\n",
      "\u001b[1;31mPermissionError\u001b[0m: [Errno 13] Permission denied: 'C:\\\\Users\\\\hta031\\\\Github\\\\FEDProtein\\\\results\\\\ULTIMATE_HOURLY_R(HEATMAPS)\\\\MEAL_SNACK_MEGA_MEAL\\\\STATS_HIGHLIGHT'"
     ]
    }
   ],
   "source": [
    "import re\n",
    "\n",
    "# Read the file\n",
    "\n",
    "with open(r\"C:\\Users\\hta031\\Github\\FEDProtein\\results\\ULTIMATE_HOURLY_R(HEATMAPS)\\MEAL_SNACK_MEGA_MEAL\\pairwise_meals_comparisons.txt\") as file:\n",
    "    content = file.read()\n",
    "\n",
    "# Regular expression to find p-values and identify significant ones\n",
    "significant_values = re.findall(r\"[\\d\\.\\-e]+\", content)  # Matches numbers in scientific notation\n",
    "\n",
    "# Highlight p-values less than 0.05\n",
    "for value in significant_values:\n",
    "    try:\n",
    "        if float(value) < 0.05:\n",
    "            content = content.replace(value, f\"**{value}**\")  # Highlighting significant values\n",
    "    except ValueError:\n",
    "        pass  # If it's not a number, continue\n",
    "\n",
    "# Write the modified content to a new file\n",
    "with open(r\"C:\\Users\\hta031\\Github\\FEDProtein\\results\\ULTIMATE_HOURLY_R(HEATMAPS)\\MEAL_SNACK_MEGA_MEAL\\STATS_HIGHLIGHT\", \"w\") as output_file:\n",
    "    output_file.write(content)\n"
   ]
  },
  {
   "cell_type": "code",
   "execution_count": 21,
   "metadata": {},
   "outputs": [
    {
     "name": "stdout",
     "output_type": "stream",
     "text": [
      "CSV file with highlighted significant values saved to: C:\\Users\\hta031\\Github\\FEDProtein\\results\\ULTIMATE_HOURLY_R(HEATMAPS)\\MEAL_SNACK_MEGA_MEAL\\STATS_HIGHLIGHT\\pairwise_snacks_comparisons_highlighted.csv\n"
     ]
    }
   ],
   "source": [
    "import re\n",
    "import csv\n",
    "import os\n",
    "\n",
    "# File paths (input and output directories)\n",
    "input_file = r\"C:\\Users\\hta031\\Github\\FEDProtein\\results\\ULTIMATE_HOURLY_R(HEATMAPS)\\MEAL_SNACK_MEGA_MEAL\\pairwise_mega_meals_comparisons.txt\"\n",
    "output_dir = r\"C:\\Users\\hta031\\Github\\FEDProtein\\results\\ULTIMATE_HOURLY_R(HEATMAPS)\\MEAL_SNACK_MEGA_MEAL\\STATS_HIGHLIGHT\"\n",
    "\n",
    "# Ensure the output directory exists\n",
    "os.makedirs(output_dir, exist_ok=True)\n",
    "\n",
    "# Output file path for CSV\n",
    "output_csv = os.path.join(output_dir, \"pairwise_mega_meals_comparisons_highlighted.csv\")\n",
    "\n",
    "# Read the original text file\n",
    "with open(input_file, \"r\") as file:\n",
    "    content = file.readlines()\n",
    "\n",
    "# Prepare a list to hold the rows for the CSV\n",
    "csv_rows = []\n",
    "\n",
    "# Process each line to extract values\n",
    "for line in content:\n",
    "    # Split the line into components (this assumes space or tab delimited text)\n",
    "    values = re.split(r'\\s+', line.strip())  # Adjust the delimiter based on your file format\n",
    "    \n",
    "    # Highlight significant p-values (< 0.05)\n",
    "    highlighted_values = []\n",
    "    for value in values:\n",
    "        try:\n",
    "            if float(value) < 0.05:\n",
    "                highlighted_values.append(f\"**{value}**\")  # Highlight significant values\n",
    "            else:\n",
    "                highlighted_values.append(value)\n",
    "        except ValueError:\n",
    "            highlighted_values.append(value)  # Non-numeric values stay as they are\n",
    "    \n",
    "    # Append the processed row to csv_rows\n",
    "    csv_rows.append(highlighted_values)\n",
    "\n",
    "# Write the processed rows to a CSV file\n",
    "with open(output_csv, mode='w', newline='') as file:\n",
    "    writer = csv.writer(file)\n",
    "    writer.writerows(csv_rows)\n",
    "\n",
    "print(f\"CSV file with highlighted significant values saved to: {output_csv}\")\n"
   ]
  },
  {
   "cell_type": "code",
   "execution_count": null,
   "metadata": {},
   "outputs": [],
   "source": []
  }
 ],
 "metadata": {
  "kernelspec": {
   "display_name": "DATA",
   "language": "python",
   "name": "python3"
  },
  "language_info": {
   "codemirror_mode": {
    "name": "ipython",
    "version": 3
   },
   "file_extension": ".py",
   "mimetype": "text/x-python",
   "name": "python",
   "nbconvert_exporter": "python",
   "pygments_lexer": "ipython3",
   "version": "3.12.2"
  }
 },
 "nbformat": 4,
 "nbformat_minor": 2
}
