{
 "cells": [
  {
   "cell_type": "code",
   "execution_count": null,
   "id": "8f09e47c-533c-4e09-bdf9-f30501673436",
   "metadata": {},
   "outputs": [],
   "source": []
  }
 ],
 "metadata": {
  "kernelspec": {
   "display_name": "",
   "name": ""
  },
  "language_info": {
   "name": ""
  }
 },
 "nbformat": 4,
 "nbformat_minor": 5
}
