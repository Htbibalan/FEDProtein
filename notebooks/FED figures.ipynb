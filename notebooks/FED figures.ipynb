{
 "cells": [
  {
   "cell_type": "markdown",
   "metadata": {},
   "source": [
    "First some imports needed later..."
   ]
  },
  {
   "cell_type": "code",
   "execution_count": 3,
   "metadata": {},
   "outputs": [],
   "source": [
    "import trompy as tp\n",
    "import matplotlib.pyplot as plt"
   ]
  },
  {
   "cell_type": "markdown",
   "metadata": {},
   "source": [
    "Run this cell first to read in data from the metafiles and FED files to a master dictionary called 'mice'."
   ]
  },
  {
   "cell_type": "code",
   "execution_count": 4,
   "metadata": {},
   "outputs": [
    {
     "name": "stdout",
     "output_type": "stream",
     "text": [
      "File is excel file. Making csv metafile first\n",
      "File is excel file. Making csv metafile first\n",
      "File is excel file. Making csv metafile first\n"
     ]
    }
   ],
   "source": [
    "%run ..//source//FED_functions.py"
   ]
  },
  {
   "cell_type": "markdown",
   "metadata": {},
   "source": [
    "The keys in this dictionary are the individual mice in the experiment."
   ]
  },
  {
   "cell_type": "code",
   "execution_count": 6,
   "metadata": {},
   "outputs": [
    {
     "data": {
      "text/plain": [
       "dict_keys(['FEDXA01', 'FEDXA02', 'FEDXA03', 'FEDXA04', 'FEDXA05', 'FEDXA06', 'FEDXA07', 'FEDXA08', 'FEDXA09', 'FEDXA10', 'FEDXA11', 'FEDXA12'])"
      ]
     },
     "execution_count": 6,
     "metadata": {},
     "output_type": "execute_result"
    }
   ],
   "source": [
    "mice.keys()"
   ]
  },
  {
   "cell_type": "markdown",
   "metadata": {},
   "source": [
    "Each key (mouse) contains a sub-dictionary where the keys represent different data and details read from the metafiles and FED files."
   ]
  },
  {
   "cell_type": "code",
   "execution_count": 7,
   "metadata": {},
   "outputs": [
    {
     "data": {
      "text/plain": [
       "dict_keys(['sex', 'order', 'grain_timestamps', 'pr_timestamps', 'nr_timestamps', 'bodyweight', 'hoarding', 'grain_avg_pellets', 'pr_avg_pellets', 'nr_avg_pellets', 'grain_pellets_per_day', 'pr_pellets_per_day', 'nr_pellets_per_day', 'all_pellets_per_day', 'intermeal_interval_pr', 'mealsize_pr', 'intermeal_interval_nr', 'mealsize_nr'])"
      ]
     },
     "execution_count": 7,
     "metadata": {},
     "output_type": "execute_result"
    }
   ],
   "source": [
    "mice[\"FEDXA01\"].keys()"
   ]
  },
  {
   "cell_type": "markdown",
   "metadata": {},
   "source": [
    "There is a function called ´get_data_fields´ that allows different fields so be extracted from the dictionary using a *selector* dictionary (e.g. so the only male mice can be retrieved).\n",
    "\n",
    "Arguments required are:\n",
    "* dictionary - Name of the dictionary to be interrogated. In this case, mice.\n",
    "* fields - List of fields to be extracted.\n",
    "* selector - Dictionary with keys and values that will be used for selection"
   ]
  },
  {
   "cell_type": "code",
   "execution_count": 8,
   "metadata": {},
   "outputs": [
    {
     "name": "stdout",
     "output_type": "stream",
     "text": [
      "\u001b[1;31mSignature:\u001b[0m \u001b[0mget_data_fields\u001b[0m\u001b[1;33m(\u001b[0m\u001b[0mdictionary\u001b[0m\u001b[1;33m,\u001b[0m \u001b[0mfields\u001b[0m\u001b[1;33m,\u001b[0m \u001b[0mselectors\u001b[0m\u001b[1;33m)\u001b[0m\u001b[1;33m\u001b[0m\u001b[1;33m\u001b[0m\u001b[0m\n",
      "\u001b[1;31mDocstring:\u001b[0m <no docstring>\n",
      "\u001b[1;31mFile:\u001b[0m      c:\\github\\fedprotein\\source\\fed_functions.py\n",
      "\u001b[1;31mType:\u001b[0m      function\n"
     ]
    }
   ],
   "source": [
    "get_data_fields?"
   ]
  },
  {
   "cell_type": "markdown",
   "metadata": {},
   "source": [
    "For example, this code in the next cell retrieves meal sizes for all MALE mice while they are on non-restricted pellets\n"
   ]
  },
  {
   "cell_type": "code",
   "execution_count": 9,
   "metadata": {},
   "outputs": [
    {
     "name": "stdout",
     "output_type": "stream",
     "text": [
      "12 items in output dictionary\n",
      "[4.461111111111111, 3.5885558583106265, 4.965, 4.857954545454546, 3.911504424778761, 3.2327188940092166, 4.135220125786163, 3.6376404494382024, 3.805157593123209, 3.783422459893048, 3.0043763676148796, 3.0797413793103448]\n"
     ]
    }
   ],
   "source": [
    "selector_dictionary = {\"sex\": \"M\"}\n",
    "data = get_data_fields(mice, [\"mealsize_nr\"], selector_dictionary)\n",
    "\n",
    "print(data)"
   ]
  },
  {
   "cell_type": "markdown",
   "metadata": {},
   "source": [
    "The code in the next cell retrieves data for intermeal intervals for NR and PR pellets from MALE mice in ORDER 2 (i.e. PR-NR).\n",
    "\n",
    "Note, because multiple fields are given to be retrieved the output is a list-of-lists."
   ]
  },
  {
   "cell_type": "code",
   "execution_count": 10,
   "metadata": {},
   "outputs": [
    {
     "name": "stdout",
     "output_type": "stream",
     "text": [
      "6 items in output dictionary\n",
      "[[0.4507708333333333, 0.4421192854980318, 0.4026645833333339, 0.46078440656565695, 0.35742994100295, 0.37571812596006143], [0.30308006535947696, 0.3161212998712999, 0.27009471766848797, 0.30469542362399493, 0.2675567356572261, 0.22796219455970468]]\n"
     ]
    }
   ],
   "source": [
    "selector_dictionary = {\"sex\": \"M\", \"order\": 2}\n",
    "data = get_data_fields(mice, ['intermeal_interval_nr', 'intermeal_interval_pr'], selector_dictionary)\n",
    "\n",
    "print(data)"
   ]
  },
  {
   "cell_type": "markdown",
   "metadata": {},
   "source": [
    "You can then go on and make figures if various ways using code to select the different groups quite efficiently. For example by setting up a selector dictionary to retrieve a certain group of mice.\n",
    "\n",
    "The selectors below will get the male nrpr and prnr mice, respectively."
   ]
  },
  {
   "cell_type": "code",
   "execution_count": 11,
   "metadata": {},
   "outputs": [],
   "source": [
    "nrpr_male_selector = {\"order\": 1, \"sex\": \"M\"}\n",
    "prnr_male_selector = {\"order\": 2, \"sex\": \"M\"}"
   ]
  },
  {
   "cell_type": "code",
   "execution_count": 12,
   "metadata": {},
   "outputs": [
    {
     "name": "stdout",
     "output_type": "stream",
     "text": [
      "6 items in output dictionary\n",
      "[[283, 269, 193, 177, 189, 181, 165, 182, 205, 189, 142, 167, 168, 188, 198, 201, 196], [305, 233, 223, 168, 208, 208, 170, 162, 182, 182, 133, 149, 151, 150, 174, 145, 165], [302, 192, 191, 163, 167, 178, 192, 197, 193, 211, 151, 188, 201, 211, 242, 255, 176], [199, 267, 214, 171, 200, 214, 205, 208, 207, 187, 153, 160, 193, 187, 192, 189, 200], [307, 249, 226, 204, 164, 197, 208, 195, 183, 188, 149, 84, 211, 234, 225, 251, 231], [237, 201, 224, 197, 198, 191, 188, 192, 215, 217, 169, 239, 257, 261, 244, 217, 233]]\n"
     ]
    }
   ],
   "source": [
    "nrpr_all_pellets = get_data_fields(mice, [\"all_pellets_per_day\"], nrpr_male_selector)\n",
    "\n",
    "print(nrpr_all_pellets)"
   ]
  },
  {
   "cell_type": "markdown",
   "metadata": {},
   "source": [
    "Here is an example of a simple script that could be used to make timeline-style figures."
   ]
  },
  {
   "cell_type": "code",
   "execution_count": 13,
   "metadata": {},
   "outputs": [
    {
     "name": "stdout",
     "output_type": "stream",
     "text": [
      "6 items in output dictionary\n",
      "6 items in output dictionary\n"
     ]
    },
    {
     "data": {
      "text/plain": [
       "Text(0, 0.5, 'Pellets delivered')"
      ]
     },
     "execution_count": 13,
     "metadata": {},
     "output_type": "execute_result"
    },
    {
     "data": {
      "image/png": "[encoded data removed]",
      "text/plain": [
       "<Figure size 432x288 with 2 Axes>"
      ]
     },
     "metadata": {
      "needs_background": "light"
     },
     "output_type": "display_data"
    }
   ],
   "source": [
    "# total pellets\n",
    "def timeline_fig(data, ax=[], ylabel=\"\", **kwargs):\n",
    "    if ax == []:\n",
    "        f, ax = plt.subplots() #could check if ax is axis object\n",
    "    \n",
    "    for trace in data:\n",
    "        ax.plot(trace, color=\"grey\", alpha=0.3)\n",
    "    ax.plot(np.mean(data, axis=0), linewidth=2)\n",
    "\n",
    "    ax.set_ylabel(ylabel)\n",
    "    ax.axvline(2, linestyle=\"--\", color=\"k\")\n",
    "    ax.axvline(9, linestyle=\"--\", color=\"k\")\n",
    "\n",
    "    return ax\n",
    "\n",
    "# these lines retrieve the data from the master dictionary\n",
    "nrpr = get_data_fields(mice, [\"all_pellets_per_day\"], nrpr_male_selector)\n",
    "prnr = get_data_fields(mice, [\"all_pellets_per_day\"], prnr_male_selector)\n",
    "\n",
    "# this line initialises the figure and axes\n",
    "f, ax = plt.subplots(nrows=2)\n",
    "\n",
    "# these lines use the above function to plot the data that was retrieved in separate axes\n",
    "timeline_fig(nrpr, ax=ax[0])\n",
    "timeline_fig(prnr, ax=ax[1])\n",
    "\n",
    "# extra lines can be used here to customise the plots\n",
    "ax[0].set_ylabel(\"Pellets delivered\")"
   ]
  },
  {
   "cell_type": "markdown",
   "metadata": {},
   "source": [
    "Here is an example of how to retrieve multiple fields (nr pellets and pr pellets) and make a nice barscatter that can be modified afterwards."
   ]
  },
  {
   "cell_type": "code",
   "execution_count": 32,
   "metadata": {},
   "outputs": [
    {
     "name": "stdout",
     "output_type": "stream",
     "text": [
      "6 items in output dictionary\n",
      "6 items in output dictionary\n",
      "<BarContainer object of 1 artists>\n",
      "<BarContainer object of 1 artists>\n"
     ]
    },
    {
     "data": {
      "image/png": "[encoded data removed]",
      "text/plain": [
       "<Figure size 432x288 with 1 Axes>"
      ]
     },
     "metadata": {
      "needs_background": "light"
     },
     "output_type": "display_data"
    }
   ],
   "source": [
    "nrpr_avg = get_data_fields(mice, [\"nr_avg_pellets\", \"pr_avg_pellets\"], nrpr_male_selector)\n",
    "prnr_avg = get_data_fields(mice, [\"pr_avg_pellets\", \"nr_avg_pellets\"], prnr_male_selector)\n",
    "\n",
    "\n",
    "f, ax = plt.subplots()\n",
    "_, _, barlist, _ = tp.barscatter([nrpr_avg, prnr_avg], ax=ax, paired=True,\n",
    "barfacecolor_option=\"individual\", barfacecolor=[\"green\", \"red\", \"red\", \"green\"])\n",
    "ax.set_ylabel(\"Pellets eaten\")\n",
    "\n",
    "# this code puts hatching on bars 3 and 4 \n",
    "for i in [barlist[2], barlist[3]]:\n",
    "    print(i)\n",
    "    bar = i.get_children()\n",
    "    bar[0].set_hatch(\".\")\n",
    "\n",
    "# f.savefig(figsfolder + \"pellets_eaten.pdf\")"
   ]
  },
  {
   "cell_type": "markdown",
   "metadata": {},
   "source": []
  }
 ],
 "metadata": {
  "interpreter": {
   "hash": "04016f2a66da2e89bccbbf3d5032e6f836990e94155ec136276278aa731e847c"
  },
  "kernelspec": {
   "display_name": "Python 3.9.13 ('FED')",
   "language": "python",
   "name": "python3"
  },
  "language_info": {
   "codemirror_mode": {
    "name": "ipython",
    "version": 3
   },
   "file_extension": ".py",
   "mimetype": "text/x-python",
   "name": "python",
   "nbconvert_exporter": "python",
   "pygments_lexer": "ipython3",
   "version": "3.9.13"
  },
  "orig_nbformat": 4
 },
 "nbformat": 4,
 "nbformat_minor": 2
}
