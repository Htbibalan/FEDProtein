{
 "cells": [
  {
   "cell_type": "code",
   "execution_count": 3,
   "metadata": {},
   "outputs": [
    {
     "ename": "IndexError",
     "evalue": "list index out of range",
     "output_type": "error",
     "traceback": [
      "\u001b[1;31m---------------------------------------------------------------------------\u001b[0m",
      "\u001b[1;31mIndexError\u001b[0m                                Traceback (most recent call last)",
      "Cell \u001b[1;32mIn[3], line 132\u001b[0m\n\u001b[0;32m    130\u001b[0m filename \u001b[38;5;241m=\u001b[39m \u001b[38;5;124m\"\u001b[39m\u001b[38;5;124m..\u001b[39m\u001b[38;5;130;01m\\\\\u001b[39;00m\u001b[38;5;124mdata\u001b[39m\u001b[38;5;130;01m\\\\\u001b[39;00m\u001b[38;5;132;01m{}\u001b[39;00m\u001b[38;5;124m\"\u001b[39m\u001b[38;5;241m.\u001b[39mformat(row[\u001b[38;5;241m0\u001b[39m])\n\u001b[0;32m    131\u001b[0m \u001b[38;5;28;01mif\u001b[39;00m row[\u001b[38;5;241m2\u001b[39m] \u001b[38;5;241m==\u001b[39m \u001b[38;5;124m\"\u001b[39m\u001b[38;5;124mGRAIN\u001b[39m\u001b[38;5;124m\"\u001b[39m:\n\u001b[1;32m--> 132\u001b[0m     mice[key][\u001b[38;5;124m\"\u001b[39m\u001b[38;5;124mgrain_timestamps\u001b[39m\u001b[38;5;124m\"\u001b[39m] \u001b[38;5;241m=\u001b[39m get_FEDevents(filename, \u001b[38;5;124m\"\u001b[39m\u001b[38;5;124mPellet\u001b[39m\u001b[38;5;124m\"\u001b[39m)\n\u001b[0;32m    133\u001b[0m \u001b[38;5;28;01melif\u001b[39;00m row[\u001b[38;5;241m2\u001b[39m] \u001b[38;5;241m==\u001b[39m \u001b[38;5;124m\"\u001b[39m\u001b[38;5;124mPR\u001b[39m\u001b[38;5;124m\"\u001b[39m:\n\u001b[0;32m    134\u001b[0m     mice[key][\u001b[38;5;124m\"\u001b[39m\u001b[38;5;124mpr_timestamps\u001b[39m\u001b[38;5;124m\"\u001b[39m] \u001b[38;5;241m=\u001b[39m get_FEDevents(filename, \u001b[38;5;124m\"\u001b[39m\u001b[38;5;124mPellet\u001b[39m\u001b[38;5;124m\"\u001b[39m)\n",
      "Cell \u001b[1;32mIn[3], line 17\u001b[0m, in \u001b[0;36mget_FEDevents\u001b[1;34m(filename, eventname)\u001b[0m\n\u001b[0;32m     15\u001b[0m \u001b[38;5;66;03m# Determine which format should be used\u001b[39;00m\n\u001b[0;32m     16\u001b[0m \u001b[38;5;28;01mtry\u001b[39;00m:\n\u001b[1;32m---> 17\u001b[0m     tmp_date_time_obj \u001b[38;5;241m=\u001b[39m datetime\u001b[38;5;241m.\u001b[39mstrptime(rows[\u001b[38;5;241m0\u001b[39m][\u001b[38;5;241m0\u001b[39m], formats[\u001b[38;5;241m0\u001b[39m])\n\u001b[0;32m     18\u001b[0m     date_format \u001b[38;5;241m=\u001b[39m formats[\u001b[38;5;241m0\u001b[39m]\n\u001b[0;32m     19\u001b[0m \u001b[38;5;28;01mexcept\u001b[39;00m \u001b[38;5;167;01mValueError\u001b[39;00m:\n",
      "\u001b[1;31mIndexError\u001b[0m: list index out of range"
     ]
    }
   ],
   "source": []
  },
  {
   "cell_type": "code",
   "execution_count": null,
   "metadata": {},
   "outputs": [],
   "source": []
  }
 ],
 "metadata": {
  "kernelspec": {
   "display_name": "DATA",
   "language": "python",
   "name": "python3"
  },
  "language_info": {
   "codemirror_mode": {
    "name": "ipython",
    "version": 3
   },
   "file_extension": ".py",
   "mimetype": "text/x-python",
   "name": "python",
   "nbconvert_exporter": "python",
   "pygments_lexer": "ipython3",
   "version": "3.12.2"
  }
 },
 "nbformat": 4,
 "nbformat_minor": 2
}
