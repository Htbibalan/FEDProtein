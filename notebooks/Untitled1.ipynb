{
 "cells": [
  {
   "cell_type": "code",
   "execution_count": 1,
   "id": "493d83f3-9abc-436a-821a-adcc38ce324e",
   "metadata": {},
   "outputs": [
    {
     "ename": "NameError",
     "evalue": "name 'get_data_fields' is not defined",
     "output_type": "error",
     "traceback": [
      "\u001b[1;31m---------------------------------------------------------------------------\u001b[0m",
      "\u001b[1;31mNameError\u001b[0m                                 Traceback (most recent call last)",
      "\u001b[1;32m~\\AppData\\Local\\Temp\\ipykernel_27308\\2308021565.py\u001b[0m in \u001b[0;36m<module>\u001b[1;34m\u001b[0m\n\u001b[0;32m      1\u001b[0m \u001b[1;31m#collects meal_size at each phase for each cohort(male and female separately) and sotre them in separate lists\u001b[0m\u001b[1;33m\u001b[0m\u001b[1;33m\u001b[0m\u001b[0m\n\u001b[0;32m      2\u001b[0m \u001b[1;33m\u001b[0m\u001b[0m\n\u001b[1;32m----> 3\u001b[1;33m \u001b[0mnrpr_male_nrsize\u001b[0m \u001b[1;33m=\u001b[0m \u001b[0mget_data_fields\u001b[0m\u001b[1;33m(\u001b[0m\u001b[0mmice\u001b[0m\u001b[1;33m,\u001b[0m \u001b[1;33m[\u001b[0m\u001b[1;34m\"mealsize_nr\"\u001b[0m\u001b[1;33m]\u001b[0m\u001b[1;33m,\u001b[0m\u001b[0mnrpr_male_selector\u001b[0m\u001b[1;33m)\u001b[0m\u001b[1;33m\u001b[0m\u001b[1;33m\u001b[0m\u001b[0m\n\u001b[0m\u001b[0;32m      4\u001b[0m \u001b[0mnrpr_male_prsize\u001b[0m \u001b[1;33m=\u001b[0m \u001b[0mget_data_fields\u001b[0m\u001b[1;33m(\u001b[0m\u001b[0mmice\u001b[0m\u001b[1;33m,\u001b[0m \u001b[1;33m[\u001b[0m\u001b[1;34m\"mealsize_pr\"\u001b[0m\u001b[1;33m]\u001b[0m\u001b[1;33m,\u001b[0m\u001b[0mnrpr_male_selector\u001b[0m\u001b[1;33m)\u001b[0m\u001b[1;33m\u001b[0m\u001b[1;33m\u001b[0m\u001b[0m\n\u001b[0;32m      5\u001b[0m \u001b[0mprnr_male_prsize\u001b[0m \u001b[1;33m=\u001b[0m \u001b[0mget_data_fields\u001b[0m\u001b[1;33m(\u001b[0m\u001b[0mmice\u001b[0m\u001b[1;33m,\u001b[0m \u001b[1;33m[\u001b[0m\u001b[1;34m\"mealsize_pr\"\u001b[0m\u001b[1;33m]\u001b[0m\u001b[1;33m,\u001b[0m\u001b[0mprnr_male_selector\u001b[0m\u001b[1;33m)\u001b[0m\u001b[1;33m\u001b[0m\u001b[1;33m\u001b[0m\u001b[0m\n",
      "\u001b[1;31mNameError\u001b[0m: name 'get_data_fields' is not defined"
     ]
    }
   ],
   "source": [
    "#collects meal_size at each phase for each cohort(male and female separately) and sotre them in separate lists\n",
    "\n",
    "nrpr_male_nrsize = get_data_fields(mice, [\"mealsize_nr\"],nrpr_male_selector)\n",
    "nrpr_male_prsize = get_data_fields(mice, [\"mealsize_pr\"],nrpr_male_selector)\n",
    "prnr_male_prsize = get_data_fields(mice, [\"mealsize_pr\"],prnr_male_selector)\n",
    "prnr_male_nrsize = get_data_fields(mice, [\"mealsize_nr\"],prnr_male_selector)\n",
    "\n",
    "nrpr_female_nrsize = get_data_fields(mice, [\"mealsize_nr\"],nrpr_female_selector)\n",
    "nrpr_female_prsize = get_data_fields(mice, [\"mealsize_pr\"],nrpr_female_selector)\n",
    "prnr_female_nrsize = get_data_fields(mice, [\"mealsize_pr\"],prnr_female_selector)\n",
    "prnr_female_nrsize = get_data_fields(mice, [\"mealsize_nr\"],prnr_female_selector)\n",
    "\n",
    "\n",
    "#converts the list of meal_size from the above lines to Pandas DataFrame format\n",
    "dfnrpr_male_nrsize=pd.DataFrame(nrpr_male_nrsize, index=['FEDXA07', 'FEDXA08', 'FEDXA09', 'FEDXA10', 'FEDXA11', 'FEDXA12'])\n",
    "dfnrpr_male_prsize=pd.DataFrame(nrpr_male_prsize, index =['FEDXA07', 'FEDXA08', 'FEDXA09', 'FEDXA10', 'FEDXA11', 'FEDXA12'])\n",
    "dfprnr_male_prsize=pd.DataFrame(prnr_male_prsize, index=[\"FEDXA01\",\"FEDXA02\",\"FEDXA03\", \"FEDXA04\",\"FEDXA05\",\"FEDXA06\"])\n",
    "dfprnr_male_nrsize=pd.DataFrame(prnr_male_nrsize, index =[\"FEDXA01\",\"FEDXA02\",\"FEDXA03\", \"FEDXA04\",\"FEDXA05\",\"FEDXA06\"])\n",
    "\n",
    "dfnrpr_female_nrsize=pd.DataFrame(nrpr_female_nrsize, index=['FEDXB07', 'FEDXB08', 'FEDXB10', 'FEDXB11', 'FEDXB12'])\n",
    "dfnrpr_female_prsize=pd.DataFrame(nrpr_female_prsize, index =['FEDXB07', 'FEDXB08', 'FEDXB10', 'FEDXB11', 'FEDXB12'])\n",
    "dfprnr_female_nrsize=pd.DataFrame(prnr_female_nrsize, index=['FEDXB01', 'FEDXB02', 'FEDXB03', 'FEDXB04', 'FEDXB05', 'FEDXB06'])\n",
    "dfprnr_female_nrsize=pd.DataFrame(prnr_female_nrsize, index =['FEDXB01', 'FEDXB02', 'FEDXB03', 'FEDXB04', 'FEDXB05', 'FEDXB06'])\n",
    "\n",
    "\n",
    "\n",
    "\n",
    "\n",
    "\n",
    "mealsizeframes = [dfnrpr_male_nrsize,dfnrpr_male_prsize,dfprnr_male_prsize,dfprnr_male_nrsize,dfnrpr_female_nrsize,dfnrpr_female_prsize,dfprnr_female_nrsize,dfprnr_female_nrsize]\n",
    "\n",
    "mealsizeframeconcat = pd.concat(mealsizeframes)\n",
    "mealsizeframeconcat[\"Mouse\"] = mealsizeframeconcat.index\n",
    "mealsizeframeconcat"
   ]
  },
  {
   "cell_type": "code",
   "execution_count": null,
   "id": "c20a4006-44a0-434c-95cb-9dde022a2a80",
   "metadata": {},
   "outputs": [],
   "source": []
  }
 ],
 "metadata": {
  "kernelspec": {
   "display_name": "Python 3 (ipykernel)",
   "language": "python",
   "name": "python3"
  },
  "language_info": {
   "codemirror_mode": {
    "name": "ipython",
    "version": 3
   },
   "file_extension": ".py",
   "mimetype": "text/x-python",
   "name": "python",
   "nbconvert_exporter": "python",
   "pygments_lexer": "ipython3",
   "version": "3.9.13"
  }
 },
 "nbformat": 4,
 "nbformat_minor": 5
}
