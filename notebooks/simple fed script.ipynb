{
 "cells": [
  {
   "cell_type": "code",
   "execution_count": null,
   "id": "eecbeac7",
   "metadata": {},
   "outputs": [],
   "source": [
    "import csv\n",
    "import trompy as tp\n",
    "\n",
    "import datetime\n",
    "\n",
    "import numpy as np"
   ]
  },
  {
   "cell_type": "code",
   "execution_count": null,
   "id": "c684ccae",
   "metadata": {},
   "outputs": [],
   "source": [
    "file=\"\\\\FED-FF\\\\data\\\\FED001_122321_00.CSV\""
   ]
  },
  {
   "cell_type": "code",
   "execution_count": null,
   "id": "c11b98c4",
   "metadata": {},
   "outputs": [],
   "source": [
    "# reads in data from metafile\n",
    "rows=[]\n",
    "with open(file, mode=\"r\") as csv_file:\n",
    "    csv_reader = csv.reader(csv_file)\n",
    "    for row in csv_reader:\n",
    "        rows.append(row)\n",
    "header = rows[0]\n",
    "rows = rows[1:]\n",
    "    "
   ]
  },
  {
   "cell_type": "code",
   "execution_count": null,
   "id": "b969fa93",
   "metadata": {},
   "outputs": [],
   "source": [
    "# gets timestamps of pellets\n",
    "timestamps = []\n",
    "for row in rows:\n",
    "    if row[7] == \"Pellet\":\n",
    "        timestamp = row[0]\n",
    "        timestamps.append(datetime.datetime.strptime(timestamp, \"%m/%d/%Y %H:%M:%S\"))\n",
    "        \n",
    "# converts timestamps into total seconds from start of file\n",
    "t0 = timestamps[0]\n",
    "pellets = []\n",
    "for ts in timestamps:\n",
    "    tmp = ts-t0\n",
    "    pellets.append(tmp.total_seconds())"
   ]
  },
  {
   "cell_type": "code",
   "execution_count": null,
   "id": "30c978ab",
   "metadata": {},
   "outputs": [],
   "source": [
    "# works out number of pellets, interpellet intervals, and number of meals\n",
    "npellets = len(pellets)\n",
    "IPIs = np.diff(pellets)\n",
    "nmeals = len([idx for idx, val in enumerate(IPIs) if val > 60])\n",
    "\n",
    "print(\"The mean number of pellets per meal is {:.3f} pellets.\".format(npellets/nmeals))\n",
    "print(\"The mean intermeal interval is {:.3f} seconds.\".format(np.mean([x for x in IPIs if x > 60])))"
   ]
  },
  {
   "cell_type": "code",
   "execution_count": null,
   "id": "e2863395-7a80-4688-a740-4b8473014386",
   "metadata": {},
   "outputs": [],
   "source": []
  }
 ],
 "metadata": {
  "kernelspec": {
   "display_name": "Python 3",
   "language": "python",
   "name": "python3"
  },
  "language_info": {
   "codemirror_mode": {
    "name": "ipython",
    "version": 3
   },
   "file_extension": ".py",
   "mimetype": "text/x-python",
   "name": "python",
   "nbconvert_exporter": "python",
   "pygments_lexer": "ipython3",
   "version": "3.8.8"
  }
 },
 "nbformat": 4,
 "nbformat_minor": 5
}
