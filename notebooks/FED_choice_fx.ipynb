{
 "cells": [
  {
   "cell_type": "code",
   "execution_count": 11,
   "metadata": {},
   "outputs": [
    {
     "name": "stdout",
     "output_type": "stream",
     "text": [
      "File is excel file. Making csv metafile first\n",
      "File is excel file. Making csv metafile first\n",
      "File is excel file. Making csv metafile first\n"
     ]
    }
   ],
   "source": [
    "import pandas as pd\n",
    "from datetime import datetime\n",
    "import numpy as np\n",
    "import matplotlib.pyplot as plt\n",
    "import trompy as tp\n",
    "\n",
    "%run ..//source//FED_functions.py"
   ]
  },
  {
   "cell_type": "code",
   "execution_count": 12,
   "metadata": {},
   "outputs": [
    {
     "data": {
      "text/plain": [
       "Index(['MM:DD:YYYY hh:mm:ss', 'Library_Version', 'Session_type',\n",
       "       'Device_Number', 'Battery_Voltage', 'Motor_Turns', 'FR', 'Event',\n",
       "       'Active_Poke', 'Left_Poke_Count', 'Right_Poke_Count', 'Pellet_Count',\n",
       "       'Block_Pellet_Count', 'Retrieval_Time', 'InterPelletInterval',\n",
       "       'Poke_Time'],\n",
       "      dtype='object')"
      ]
     },
     "execution_count": 12,
     "metadata": {},
     "output_type": "execute_result"
    }
   ],
   "source": [
    "def get_breakpoints(filename, max_hours=None):\n",
    "\n",
    "    if max_hours:\n",
    "        df = get_timerange_from_FEDfile(filename)\n",
    "    else:\n",
    "        df = pd.read_csv(filename)\n",
    "\n",
    "    # works by finding the difference whenever the FR resets\n",
    "    FR = df[\"FR\"]\n",
    "    breakpoints = [np.abs(val) for idx, val in enumerate(np.diff(FR)) if val < 0]\n",
    "\n",
    "    return breakpoints\n",
    "\n",
    "def get_max_pellets(filename, max_hours=None):\n",
    "    \n",
    "    if max_hours:\n",
    "        df = get_timerange_from_FEDfile(filename)\n",
    "    else:\n",
    "        df = pd.read_csv(filename)\n",
    "    \n",
    "    max_pellets = df[\"Pellet_Count\"].max()\n",
    "\n",
    "    return max_pellets\n",
    "\n",
    "def get_timerange_from_FEDfile(filename):\n",
    "\n",
    "    # formats = ['%Y-%m-%d %H:%M:%S', '%m/%d/%Y %H:%M:%S']\n",
    "\n",
    "    df = pd.read_csv(filename)\n",
    "\n",
    "    # try:\n",
    "    #     tmp_date_time_obj = datetime.strptime(rows[0][0], formats[0])\n",
    "    #     date_format = formats[0]\n",
    "    # except ValueError:\n",
    "    #     tmp_date_time_obj = datetime.strptime(rows[0][0], formats[1])\n",
    "    #     date_format = formats[1]\n",
    "\n",
    "    date_format = '%m/%d/%Y %H:%M:%S'\n",
    "    t0 = datetime.strptime(df[\"MM:DD:YYYY hh:mm:ss\"][0], date_format)\n",
    "\n",
    "    print(t0)\n",
    "    \n",
    "    return t0\n",
    "\n",
    "\n",
    "filename = \"..\\\\data\\\\FED001_051522_00.CSV\"\n",
    "df = pd.read_csv(filename)\n",
    "df.columns\n",
    "# bps = get_breakpoints(filename)\n",
    "# # t0 = get_timerange_from_FEDfile(filename)"
   ]
  },
  {
   "cell_type": "code",
   "execution_count": 13,
   "metadata": {},
   "outputs": [
    {
     "name": "stdout",
     "output_type": "stream",
     "text": [
      "File is excel file. Making csv metafile first\n"
     ]
    }
   ],
   "source": [
    "# function to get timestamps from fed csv files\n",
    "metafile = \"..\\\\FEDXA DATA SHEETS METAFILE.xls\"\n",
    "rows, header = tp.metafilereader(metafile, sheetname=\"METAFILE\")\n",
    "\n",
    "max_hours = None\n",
    "\n",
    "mice = {}\n",
    "for row in rows:\n",
    "    mouse_id = row[1]\n",
    "    if mouse_id not in mice.keys():\n",
    "        mice[mouse_id] = {}\n",
    "        mice[mouse_id][\"sex\"] = row[4]\n",
    "        mice[mouse_id][\"order\"] = row[5]\n",
    "\n",
    "for key in mice.keys():\n",
    "    for row in rows:\n",
    "        if row[1] == key and row[3] == \"ECO\":\n",
    "            filename = \"..\\\\data\\\\{}\".format(row[0])\n",
    "            if row[2] == \"RICH\":\n",
    "                mice[key][\"rich_timestamps\"] = get_FEDevents(filename, \"Pellet\")\n",
    "                mice[key][\"rich_breakpoint\"] = np.mean(get_breakpoints(filename, max_hours=max_hours))\n",
    "                mice[key][\"rich_max_pellets\"] = get_max_pellets(filename, max_hours=max_hours)\n",
    "            elif row[2] == \"PR\":\n",
    "                mice[key][\"pr_timestamps\"] = get_FEDevents(filename, \"Pellet\")\n",
    "                mice[key][\"pr_breakpoint\"] = np.mean(get_breakpoints(filename, max_hours=max_hours))\n",
    "                mice[key][\"pr_max_pellets\"] = get_max_pellets(filename, max_hours=max_hours)\n",
    "\n",
    "            else:\n",
    "                print(row[2], \"is not a valid type of pellet for\", key)\n"
   ]
  },
  {
   "cell_type": "code",
   "execution_count": 14,
   "metadata": {},
   "outputs": [],
   "source": [
    "mice_choice = mice"
   ]
  },
  {
   "cell_type": "code",
   "execution_count": 15,
   "metadata": {},
   "outputs": [
    {
     "name": "stdout",
     "output_type": "stream",
     "text": [
      "6 items in output dictionary\n",
      "6 items in output dictionary\n",
      "6 items in output dictionary\n",
      "6 items in output dictionary\n"
     ]
    }
   ],
   "source": [
    "nr_selector = {\"sex\": \"M\", \"order\": 2}\n",
    "pr_selector = {\"sex\": \"M\", \"order\": 1}\n",
    "\n",
    "breakpoints_nr = get_data_fields(mice_choice, ['rich_breakpoint', 'pr_breakpoint'], nr_selector)\n",
    "breakpoints_pr = get_data_fields(mice_choice, ['rich_breakpoint', 'pr_breakpoint'], pr_selector)\n",
    "\n",
    "total_pellets_nr = get_data_fields(mice_choice, ['rich_max_pellets', 'pr_max_pellets'], nr_selector)\n",
    "total_pellets_pr = get_data_fields(mice_choice, ['rich_max_pellets', 'pr_max_pellets'], pr_selector)\n"
   ]
  },
  {
   "cell_type": "code",
   "execution_count": 16,
   "metadata": {},
   "outputs": [
    {
     "data": {
      "text/plain": [
       "Text(0, 0.5, 'Pellets delivered')"
      ]
     },
     "execution_count": 16,
     "metadata": {},
     "output_type": "execute_result"
    },
    {
     "data": {
      "image/png": "[encoded data removed]",
      "text/plain": [
       "<Figure size 360x288 with 1 Axes>"
      ]
     },
     "metadata": {
      "needs_background": "light"
     },
     "output_type": "display_data"
    }
   ],
   "source": [
    "f, ax = plt.subplots(figsize=(5,4))\n",
    "_ = tp.barscatter([total_pellets_nr, total_pellets_pr], ax=ax, paired=True,\n",
    "                   barlabels=[\"35%\", \"5%\", \"35%\", \"5%\"])\n",
    "\n",
    "ax.set_ylabel(\"Pellets delivered\")\n"
   ]
  },
  {
   "cell_type": "markdown",
   "metadata": {},
   "source": []
  },
  {
   "cell_type": "code",
   "execution_count": 17,
   "metadata": {},
   "outputs": [
    {
     "data": {
      "text/plain": [
       "Text(0, 0.5, 'Breakpoint')"
      ]
     },
     "execution_count": 17,
     "metadata": {},
     "output_type": "execute_result"
    },
    {
     "data": {
      "image/png": "[encoded data removed]",
      "text/plain": [
       "<Figure size 360x288 with 1 Axes>"
      ]
     },
     "metadata": {
      "needs_background": "light"
     },
     "output_type": "display_data"
    }
   ],
   "source": [
    "f, ax = plt.subplots(figsize=(5,4))\n",
    "_ = tp.barscatter([breakpoints_nr, breakpoints_pr], ax=ax, paired=True,\n",
    "                   barlabels=[\"35%\", \"5%\", \"35%\", \"5%\"])\n",
    "\n",
    "ax.set_ylabel(\"Breakpoint\")\n"
   ]
  },
  {
   "cell_type": "code",
   "execution_count": null,
   "metadata": {},
   "outputs": [],
   "source": []
  }
 ],
 "metadata": {
  "kernelspec": {
   "display_name": "Python 3.9.13 ('FED')",
   "language": "python",
   "name": "python3"
  },
  "language_info": {
   "codemirror_mode": {
    "name": "ipython",
    "version": 3
   },
   "file_extension": ".py",
   "mimetype": "text/x-python",
   "name": "python",
   "nbconvert_exporter": "python",
   "pygments_lexer": "ipython3",
   "version": "3.9.13"
  },
  "orig_nbformat": 4,
  "vscode": {
   "interpreter": {
    "hash": "04016f2a66da2e89bccbbf3d5032e6f836990e94155ec136276278aa731e847c"
   }
  }
 },
 "nbformat": 4,
 "nbformat_minor": 2
}
