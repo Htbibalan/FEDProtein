{
 "cells": [
  {
   "cell_type": "code",
   "execution_count": 4,
   "id": "2fe5a684-68dd-42df-9d1e-e9b33e12dee4",
   "metadata": {},
   "outputs": [],
   "source": [
    "import trompy as tp\n",
    "import numpy as np\n",
    "import csv\n",
    "%matplotlib inline\n",
    "from datetime import datetime\n"
   ]
  },
  {
   "cell_type": "code",
   "execution_count": 5,
   "id": "55265d5f-958c-4979-955d-1de26f8db46b",
   "metadata": {},
   "outputs": [],
   "source": [
    "def get_FEDevents(filename, eventname):\n",
    "        \n",
    "     \n",
    "    \n",
    "    file = open (filename)\n",
    "    csvreader= csv.reader(file)\n",
    "    header = []\n",
    "    header = next(csvreader)\n",
    "    rows= []\n",
    "    for row in csvreader:\n",
    "        rows.append(row)\n",
    "    timestamps = []\n",
    "    for row in rows: \n",
    "        if row[7] == eventname:\n",
    "            date_time_obj = datetime.strptime(row [0], '%m/%d/%Y %H:%M:%S')\n",
    "            timestamps.append (date_time_obj)\n",
    "           \n",
    "    t0 = rows[0] [0] \n",
    "    day = t0.split()[0] \n",
    "    lightson = day + \" 07:00:00\" \n",
    "    refpoint = datetime.strptime(lightson, '%m/%d/%Y %H:%M:%S')\n",
    "    \n",
    "                \n",
    "    pellettimes = []\n",
    "    for t in timestamps:\n",
    "        Deltat = t-refpoint\n",
    "        Deltatinseconds = Deltat.total_seconds()\n",
    "        Deltatinhours = Deltatinseconds/3600\n",
    "        pellettimes.append(Deltatinhours)\n",
    "    return pellettimes"
   ]
  },
  {
   "cell_type": "code",
   "execution_count": 6,
   "id": "b9f0b223-7836-43cf-8591-574e97cdc123",
   "metadata": {},
   "outputs": [],
   "source": [
    "metafile = \"FEDXA DATA SHEETS METAFILE.xls\""
   ]
  },
  {
   "cell_type": "markdown",
   "id": "827050e4-c596-4d8b-9cda-29a9a11e3d60",
   "metadata": {},
   "source": [
    "metafile"
   ]
  },
  {
   "cell_type": "code",
   "execution_count": 7,
   "id": "7779eb3b-da67-43f0-bd01-67a85ca7c35d",
   "metadata": {
    "tags": []
   },
   "outputs": [
    {
     "name": "stdout",
     "output_type": "stream",
     "text": [
      "File is excel file. Making csv metafile first\n"
     ]
    }
   ],
   "source": [
    "metafilerows , metafileheader = tp.metafilereader(metafile, sheetname=\"METAFILE\")"
   ]
  },
  {
   "cell_type": "code",
   "execution_count": 8,
   "id": "749f5e7d-b1b6-493f-af86-f2b77bcce073",
   "metadata": {},
   "outputs": [
    {
     "data": {
      "text/plain": [
       "['fedfile', 'mouse', 'diet', 'mode', 'sex ', 'order']"
      ]
     },
     "execution_count": 8,
     "metadata": {},
     "output_type": "execute_result"
    }
   ],
   "source": [
    "metafileheader"
   ]
  },
  {
   "cell_type": "code",
   "execution_count": 9,
   "id": "0e73955f-08e6-4c86-b9e6-dc481dcfd760",
   "metadata": {
    "collapsed": true,
    "jupyter": {
     "outputs_hidden": true
    },
    "tags": []
   },
   "outputs": [
    {
     "data": {
      "text/plain": [
       "[['FED001_042322_00.CSV', 'FEDXA01', 'GRAIN', 'FF', 'M', 2.0],\n",
       " ['FED001_042622_00.CSV', 'FEDXA01', 'PR', 'FF', 'M', 2.0],\n",
       " ['FED001_050322_00.CSV', 'FEDXA01', 'NR', 'FF', 'M', 2.0],\n",
       " ['FED001_051022_04.CSV', 'FEDXA01', 'NR', 'FR1', 'M', 2.0],\n",
       " ['FED001_051122_01.CSV', 'FEDXA01', 'NR', 'FR1R', 'M', 2.0],\n",
       " ['FED001_051522_00.CSV', 'FEDXA01', 'PR', 'ECO', 'M', 2.0],\n",
       " ['FED002_051522_00.CSV', 'FEDXA01', 'RICH', 'ECO', 'M', 2.0],\n",
       " ['FED002_042322_00.CSV', 'FEDXA02', 'GRAIN', 'FF', 'M', 2.0],\n",
       " ['FED002_042622_00.CSV', 'FEDXA02', 'PR', 'FF', 'M', 2.0],\n",
       " ['FED002_050322_00.CSV', 'FEDXA02', 'NR', 'FF', 'M', 2.0],\n",
       " ['FED002_051022_02.CSV', 'FEDXA02', 'NR', 'FR1', 'M', 2.0],\n",
       " ['FED002_051122_03.CSV', 'FEDXA02', 'NR', 'FR1R', 'M', 2.0],\n",
       " ['FED003_051522_00.CSV', 'FEDXA02', 'PR', 'ECO', 'M', 2.0],\n",
       " ['FED004_051522_00.CSV', 'FEDXA02', 'RICH', 'ECO', 'M', 2.0],\n",
       " ['FED003_042322_00.CSV', 'FEDXA03', 'GRAIN', 'FF', 'M', 2.0],\n",
       " ['FED003_042622_00.CSV', 'FEDXA03', 'PR', 'FF', 'M', 2.0],\n",
       " ['FED003_050322_00.CSV', 'FEDXA03', 'NR', 'FF', 'M', 2.0],\n",
       " ['FED003_051022_03.CSV', 'FEDXA03', 'NR', 'FR1', 'M', 2.0],\n",
       " ['FED003_051122_02.CSV', 'FEDXA03', 'NR', 'FR1R', 'M', 2.0],\n",
       " ['FED005_051522_00.CSV', 'FEDXA03', 'PR', 'ECO', 'M', 2.0],\n",
       " ['FED006_051522_04.CSV', 'FEDXA03', 'RICH', 'ECO', 'M', 2.0],\n",
       " ['FED004_042322_00.CSV', 'FEDXA04', 'GRAIN', 'FF', 'M', 2.0],\n",
       " ['FED004_042622_00.CSV', 'FEDXA04', 'PR', 'FF', 'M', 2.0],\n",
       " ['FED004_050322_00.CSV', 'FEDXA04', 'NR', 'FF', 'M', 2.0],\n",
       " ['FED004_051022_04.CSV', 'FEDXA04', 'NR', 'FR1', 'M', 2.0],\n",
       " ['FED004_051122_01.CSV', 'FEDXA04', 'NR', 'FR1R', 'M', 2.0],\n",
       " ['FED007_051522_00.CSV', 'FEDXA04', 'PR', 'ECO', 'M', 2.0],\n",
       " ['FED008_051522_00.CSV', 'FEDXA04', 'RICH', 'ECO', 'M', 2.0],\n",
       " ['FED005_042322_00.CSV', 'FEDXA05', 'GRAIN', 'FF', 'M', 2.0],\n",
       " ['FED005_042622_00.CSV', 'FEDXA05', 'PR', 'FF', 'M', 2.0],\n",
       " ['FED005_050322_00.CSV', 'FEDXA05', 'NR', 'FF', 'M', 2.0],\n",
       " ['FED005_051022_03.CSV', 'FEDXA05', 'NR', 'FR1', 'M', 2.0],\n",
       " ['FED005_051122_02.CSV', 'FEDXA05', 'NR', 'FR1R', 'M', 2.0],\n",
       " ['FED009_051522_00.CSV', 'FEDXA05', 'PR', 'ECO', 'M', 2.0],\n",
       " ['FED010_051522_00.CSV', 'FEDXA05', 'RICH', 'ECO', 'M', 2.0],\n",
       " ['FED006_042322_00.CSV', 'FEDXA06', 'GRAIN', 'FF', 'M', 2.0],\n",
       " ['FED006_042622_00.CSV', 'FEDXA06', 'PR', 'FF', 'M', 2.0],\n",
       " ['FED006_050322_00 MERGED.CSV', 'FEDXA06', 'NR', 'FF', 'M', 2.0],\n",
       " ['FED006_051022_02.CSV', 'FEDXA06', 'NR', 'FR1', 'M', 2.0],\n",
       " ['FED006_051122_03.CSV', 'FEDXA06', 'NR', 'FR1R', 'M', 2.0],\n",
       " ['FED011_051522_00.CSV', 'FEDXA06', 'PR', 'ECO', 'M', 2.0],\n",
       " ['FED012_051522_00.CSV', 'FEDXA06', 'RICH', 'ECO', 'M', 2.0],\n",
       " ['FED001_051222_02.CSV', 'FEDXA07', 'PR', 'ECO', 'M', 1.0],\n",
       " ['FED002_051222_02.CSV', 'FEDXA07', 'RICH', 'ECO', 'M', 1.0],\n",
       " ['FED007_042322_00.CSV', 'FEDXA07', 'GRAIN', 'FF', 'M', 1.0],\n",
       " ['FED007_042622_00.CSV', 'FEDXA07', 'NR', 'FF', 'M', 1.0],\n",
       " ['FED007_050322_00.CSV', 'FEDXA07', 'PR', 'FF', 'M', 1.0],\n",
       " ['FED007_051022_01.CSV', 'FEDXA07', 'PR', 'FR1', 'M', 1.0],\n",
       " ['FED007_051122_02.CSV', 'FEDXA07', 'PR', 'FR1R', 'M', 1.0],\n",
       " ['FED003_051222_02.CSV', 'FEDXA08', 'PR', 'ECO', 'M', 1.0],\n",
       " ['FED004_051222_02.CSV', 'FEDXA08', 'RICH', 'ECO', 'M', 1.0],\n",
       " ['FED008_042322_00.CSV', 'FEDXA08', 'GRAIN', 'FF', 'M', 1.0],\n",
       " ['FED008_042622_00.CSV', 'FEDXA08', 'NR', 'FF', 'M', 1.0],\n",
       " ['FED008_050322_00.CSV', 'FEDXA08', 'PR', 'FF', 'M', 1.0],\n",
       " ['FED008_051022_01.CSV', 'FEDXA08', 'PR', 'FR1', 'M', 1.0],\n",
       " ['FED008_051122_02.CSV', 'FEDXA08', 'PR', 'FR1R', 'M', 1.0],\n",
       " ['FED005_051222_02.CSV', 'FEDXA09', 'PR', 'ECO', 'M', 1.0],\n",
       " ['FED006_051222_03.CSV', 'FEDXA09', 'RICH', 'ECO', 'M', 1.0],\n",
       " ['FED009_042322_00.CSV', 'FEDXA09', 'GRAIN', 'FF', 'M', 1.0],\n",
       " ['FED009_042622_00.CSV', 'FEDXA09', 'NR', 'FF', 'M', 1.0],\n",
       " ['FED009_050322_00.CSV', 'FEDXA09', 'PR', 'FF', 'M', 1.0],\n",
       " ['FED009_051022_02.CSV', 'FEDXA09', 'PR', 'FR1', 'M', 1.0],\n",
       " ['FED009_051122_02.CSV', 'FEDXA09', 'PR', 'FR1R', 'M', 1.0],\n",
       " ['FED007_051222_02.CSV', 'FEDXA10', 'PR', 'ECO', 'M', 1.0],\n",
       " ['FED008_051222_02.CSV', 'FEDXA10', 'RICH', 'ECO', 'M', 1.0],\n",
       " ['FED010_042322_00.CSV', 'FEDXA10', 'GRAIN', 'FF', 'M', 1.0],\n",
       " ['FED010_042622_00.CSV', 'FEDXA10', 'NR', 'FF', 'M', 1.0],\n",
       " ['FED010_050322_00.CSV', 'FEDXA10', 'PR', 'FF', 'M', 1.0],\n",
       " ['FED010_051022_02.CSV', 'FEDXA10', 'PR', 'FR1', 'M', 1.0],\n",
       " ['FED010_051122_03.CSV', 'FEDXA10', 'PR', 'FR1R', 'M', 1.0],\n",
       " ['FED009_051222_02.CSV', 'FEDXA11', 'PR', 'ECO', 'M', 1.0],\n",
       " ['FED010_051222_02.CSV', 'FEDXA11', 'RICH', 'ECO', 'M', 1.0],\n",
       " ['FED011_042322_00.CSV', 'FEDXA11', 'GRAIN', 'FF', 'M', 1.0],\n",
       " ['FED011_042622_00.CSV', 'FEDXA11', 'NR', 'FF', 'M', 1.0],\n",
       " ['FED011_050322_00MERGED.CSV', 'FEDXA11', 'PR', 'FF', 'M', 1.0],\n",
       " ['FED011_051022_01.CSV', 'FEDXA11', 'PR', 'FR1', 'M', 1.0],\n",
       " ['FED011_051122_02.CSV', 'FEDXA11', 'PR', 'FR1R', 'M', 1.0],\n",
       " ['FED011_051222_02.CSV', 'FEDXA12', 'PR', 'ECO', 'M', 1.0],\n",
       " ['FED012_042322_00.CSV', 'FEDXA12', 'GRAIN', 'FF', 'M', 1.0],\n",
       " ['FED012_042622_00.CSV', 'FEDXA12', 'NR', 'FF', 'M', 1.0],\n",
       " ['FED012_050322_00MERGED.CSV', 'FEDXA12', 'PR', 'FF', 'M', 1.0],\n",
       " ['FED012_051022_01.CSV', 'FEDXA12', 'PR', 'FR1', 'M', 1.0],\n",
       " ['FED012_051122_01.CSV', 'FEDXA12', 'PR', 'FR1R', 'M', 1.0],\n",
       " ['FED012_051222_02.CSV', 'FEDXA12', 'RICH', 'ECO', 'M', 1.0]]"
      ]
     },
     "execution_count": 9,
     "metadata": {},
     "output_type": "execute_result"
    }
   ],
   "source": [
    "metafilerows"
   ]
  },
  {
   "cell_type": "code",
   "execution_count": 10,
   "id": "463c4a62-000f-48de-99d6-1658040ac93e",
   "metadata": {
    "collapsed": true,
    "jupyter": {
     "outputs_hidden": true,
     "source_hidden": true
    },
    "tags": []
   },
   "outputs": [
    {
     "name": "stdout",
     "output_type": "stream",
     "text": [
      "842\n",
      "GRAIN\n",
      "1384\n",
      "PR\n",
      "1606\n",
      "NR\n",
      "159\n",
      "NR\n",
      "188\n",
      "NR\n",
      "319\n",
      "PR\n",
      "49\n",
      "RICH\n",
      "722\n",
      "GRAIN\n",
      "1386\n",
      "PR\n",
      "1317\n",
      "NR\n",
      "192\n",
      "NR\n",
      "189\n",
      "NR\n",
      "275\n",
      "PR\n",
      "119\n",
      "RICH\n",
      "711\n",
      "GRAIN\n",
      "1640\n",
      "PR\n",
      "1986\n",
      "NR\n",
      "148\n",
      "NR\n",
      "162\n",
      "NR\n",
      "328\n",
      "PR\n",
      "24\n",
      "RICH\n",
      "775\n",
      "GRAIN\n",
      "1499\n",
      "PR\n",
      "1710\n",
      "NR\n",
      "142\n",
      "NR\n",
      "189\n",
      "NR\n",
      "257\n",
      "PR\n",
      "90\n",
      "RICH\n",
      "715\n",
      "GRAIN\n",
      "1554\n",
      "PR\n",
      "1768\n",
      "NR\n",
      "153\n",
      "NR\n",
      "159\n",
      "NR\n",
      "266\n",
      "PR\n",
      "70\n",
      "RICH\n",
      "564\n",
      "GRAIN\n",
      "1490\n",
      "PR\n",
      "1403\n",
      "NR\n",
      "145\n",
      "NR\n",
      "196\n",
      "NR\n",
      "417\n",
      "PR\n",
      "68\n",
      "RICH\n",
      "266\n",
      "PR\n",
      "106\n",
      "RICH\n",
      "767\n",
      "GRAIN\n",
      "1315\n",
      "NR\n",
      "1278\n",
      "PR\n",
      "221\n",
      "PR\n",
      "243\n",
      "PR\n",
      "353\n",
      "PR\n",
      "277\n",
      "RICH\n",
      "774\n",
      "GRAIN\n",
      "1295\n",
      "NR\n",
      "1089\n",
      "PR\n",
      "241\n",
      "PR\n",
      "245\n",
      "PR\n",
      "303\n",
      "PR\n",
      "55\n",
      "RICH\n",
      "705\n",
      "GRAIN\n",
      "1328\n",
      "NR\n",
      "1443\n",
      "PR\n",
      "167\n",
      "PR\n",
      "216\n",
      "PR\n",
      "307\n",
      "PR\n",
      "141\n",
      "RICH\n",
      "695\n",
      "GRAIN\n",
      "1415\n",
      "NR\n",
      "1293\n",
      "PR\n",
      "179\n",
      "PR\n",
      "200\n",
      "PR\n",
      "298\n",
      "PR\n",
      "104\n",
      "RICH\n",
      "801\n",
      "GRAIN\n",
      "1373\n",
      "NR\n",
      "1403\n",
      "PR\n",
      "156\n",
      "PR\n",
      "184\n",
      "PR\n",
      "289\n",
      "PR\n",
      "689\n",
      "GRAIN\n",
      "1429\n",
      "NR\n",
      "1644\n",
      "PR\n",
      "136\n",
      "PR\n",
      "198\n",
      "PR\n",
      "117\n",
      "RICH\n",
      "[842, 722, 711, 775, 715, 564, 767, 774, 705, 695, 801, 689] [1606, 159, 188, 1317, 192, 189, 1986, 148, 162, 1710, 142, 189, 1768, 153, 159, 1403, 145, 196, 1315, 1295, 1328, 1415, 1373, 1429] [1384, 319, 1386, 275, 1640, 328, 1499, 257, 1554, 266, 1490, 417, 266, 1278, 221, 243, 353, 1089, 241, 245, 303, 1443, 167, 216, 307, 1293, 179, 200, 298, 1403, 156, 184, 289, 1644, 136, 198]\n"
     ]
    }
   ],
   "source": [
    "GRAIN=[]\n",
    "PR=[]\n",
    "NR=[]\n",
    "\n",
    "for mfr in metafilerows:\n",
    "    filename= mfr[0]\n",
    "    folder = \"data\\\\\"\n",
    "    fullfile = folder + filename\n",
    "    file = open (fullfile)\n",
    "    csvreader= csv.reader(file)\n",
    "    header = []\n",
    "    header = next(csvreader)\n",
    "    header\n",
    "    rows= []\n",
    "    for row in csvreader:\n",
    "        rows.append(row)\n",
    "    \n",
    "    numberofpellets = 0\n",
    "    for row in rows: \n",
    "        if row[7] == \"Pellet\":\n",
    "            numberofpellets=numberofpellets+1\n",
    "    print(numberofpellets)\n",
    "    \n",
    "    print (mfr[2])\n",
    "    \n",
    "    if mfr[2] == \"GRAIN\":\n",
    "        GRAIN.append(numberofpellets)\n",
    "        \n",
    "\n",
    "    \n",
    "    if mfr[2] == \"PR\":\n",
    "        PR.append(numberofpellets)\n",
    "        \n",
    "    \n",
    "    if mfr[2] == \"NR\":\n",
    "        NR.append(numberofpellets)\n",
    "         \n",
    "print (GRAIN,NR,PR)\n",
    "            \n",
    "\n",
    "\n",
    "    \n",
    "\n",
    "    \n",
    "    "
   ]
  },
  {
   "cell_type": "code",
   "execution_count": 86,
   "id": "b3012308-b9ed-49f7-a4a5-79c95a7c8c34",
   "metadata": {
    "tags": []
   },
   "outputs": [],
   "source": [
    "PRFF=[]\n",
    "for row in metafilerows:\n",
    "    if row [2] == \"PR\":\n",
    "        if row[3] ==\"FF\":\n",
    "            filename = row[0]\n",
    "            x= get_FEDevents (\"data\\\\{}\".format(filename) , \"Pellet\")\n",
    "            PRFF.append(x)\n",
    "    \n",
    "GRAINFF=[]\n",
    "for row in metafilerows:\n",
    "    if row [2] == \"GRAIN\":\n",
    "        if row[3] ==\"FF\":\n",
    "            filename = row[0]\n",
    "            x= get_FEDevents (\"data\\\\{}\".format(filename) , \"Pellet\")\n",
    "            GRAINFF.append(x)\n",
    "            \n",
    "NRFF=[]\n",
    "for row in metafilerows:\n",
    "    if row[2] == \"NR\":\n",
    "        if row[3] ==\"FF\":\n",
    "            filename = row[0]\n",
    "            x= get_FEDevents (\"data\\\\{}\".format(filename) , \"Pellet\")\n",
    "            NRFF.append(x)          \n",
    "        \n",
    "RICHECO = []\n",
    "for row in metafilerows:\n",
    "    if row [2] == \"RICH\":\n",
    "        if row[3] ==\"ECO\":\n",
    "            filename = row[0]\n",
    "            x= get_FEDevents (\"data\\\\{}\".format(filename) , \"Pellet\")\n",
    "            RICHECO.append(x)\n",
    "    \n",
    "PRECO = []\n",
    "for row in metafilerows:\n",
    "    if row [2] == \"PR\":\n",
    "        if row[3] ==\"ECO\":\n",
    "            filename = row[0]\n",
    "            x= get_FEDevents (\"data\\\\{}\".format(filename) , \"Pellet\")\n",
    "            PRECO.append(x)\n",
    "          \n",
    "NRFR1 = []\n",
    "for row in metafilerows:\n",
    "    if row [2] == \"NR\":\n",
    "        if row[3] ==\"FR1\":\n",
    "            filename = row[0]\n",
    "            x= get_FEDevents (\"data\\\\{}\".format(filename) , \"Pellet\")\n",
    "            NRFR1.append(x)\n",
    "          \n",
    "NRFR1R = []\n",
    "for row in metafilerows:\n",
    "    if row [2] == \"NR\":\n",
    "        if row[3] ==\"FR1R\":\n",
    "            filename = row[0]\n",
    "            x= get_FEDevents (\"data\\\\{}\".format(filename) , \"Pellet\")\n",
    "            NRFR1R.append(x)\n",
    "          \n",
    "PRFR1 = []\n",
    "for row in metafilerows:\n",
    "    if row [2] == \"NR\":\n",
    "        if row[3] ==\"FR1\":\n",
    "            filename = row[0]\n",
    "            x= get_FEDevents (\"data\\\\{}\".format(filename) , \"Pellet\")\n",
    "            PRFR1.append(x)\n",
    "            \n",
    "            \n",
    "PRFR1R = []\n",
    "for row in metafilerows:\n",
    "    if row [2] == \"NR\":\n",
    "        if row[3] ==\"FR1R\":\n",
    "            filename = row[0]\n",
    "            x= get_FEDevents (\"data\\\\{}\".format(filename) , \"Pellet\")\n",
    "            PRFR1R.append(x)\n",
    "\n",
    "            "
   ]
  },
  {
   "cell_type": "code",
   "execution_count": 87,
   "id": "1639ddfc-6db6-4d9e-ac16-ec563f6aea0f",
   "metadata": {},
   "outputs": [],
   "source": [
    "def get_intermealinterval (pellettimes):\n",
    "    IPIs = np.diff(pellettimes)\n",
    "    IMI= np.mean([x for x in IPIs if x > (1/60)])\n",
    "    return IMI\n",
    "    "
   ]
  },
  {
   "cell_type": "code",
   "execution_count": 88,
   "id": "3a6003e3-7231-4997-8266-7c1c996e893e",
   "metadata": {
    "tags": []
   },
   "outputs": [
    {
     "data": {
      "text/plain": [
       "0.30308006535947696"
      ]
     },
     "execution_count": 88,
     "metadata": {},
     "output_type": "execute_result"
    }
   ],
   "source": [
    "PRFF [0]\n",
    "get_intermealinterval (PRFF [0])"
   ]
  },
  {
   "cell_type": "code",
   "execution_count": 89,
   "id": "28b6c46d-d6a4-4ccb-8ce5-4986ea0d0a53",
   "metadata": {},
   "outputs": [],
   "source": [
    "len (PRFF[0])\n",
    "pellettimes= PRFF[0]\n",
    "IPIs = np.diff(pellettimes)"
   ]
  },
  {
   "cell_type": "code",
   "execution_count": 17,
   "id": "6dc58f84-45af-4495-bf52-f851c1ad42e0",
   "metadata": {},
   "outputs": [
    {
     "name": "stderr",
     "output_type": "stream",
     "text": [
      "<ipython-input-17-0a912f514869>:7: RuntimeWarning: divide by zero encountered in log10\n",
      "  y = [np.log10(val) for val in y ]\n",
      "C:\\Users\\hta031\\Anaconda3\\lib\\site-packages\\seaborn\\distributions.py:2557: FutureWarning: `distplot` is a deprecated function and will be removed in a future version. Please adapt your code to use either `displot` (a figure-level function with similar flexibility) or `histplot` (an axes-level function for histograms).\n",
      "  warnings.warn(msg, FutureWarning)\n",
      "C:\\Users\\hta031\\Anaconda3\\lib\\site-packages\\seaborn\\distributions.py:306: UserWarning: Dataset has 0 variance; skipping density estimate.\n",
      "  warnings.warn(msg, UserWarning)\n"
     ]
    },
    {
     "data": {
      "text/plain": [
       "<AxesSubplot:ylabel='Density'>"
      ]
     },
     "execution_count": 17,
     "metadata": {},
     "output_type": "execute_result"
    },
    {
     "data": {
      "image/png": "[encoded data removed]",
      "text/plain": [
       "<Figure size 432x288 with 1 Axes>"
      ]
     },
     "metadata": {
      "needs_background": "light"
     },
     "output_type": "display_data"
    }
   ],
   "source": [
    "import seaborn as sns\n",
    "\n",
    "div = 5/50\n",
    "bins = [i*div for i in range(50)]\n",
    "ax.set_xlim(-100,1000)\n",
    "y = IPIs\n",
    "y = [np.log10(val) for val in y ]\n",
    "f,ax= plt.subplots ()\n",
    "sns.distplot(y,bins=bins,ax=ax,norm_hist=False,\n",
    "             kde=True)"
   ]
  },
  {
   "cell_type": "code",
   "execution_count": 18,
   "id": "e7dd2e78-df9e-4208-b65f-a30b1417c0c2",
   "metadata": {},
   "outputs": [
    {
     "data": {
      "text/plain": [
       "1.875"
      ]
     },
     "execution_count": 18,
     "metadata": {},
     "output_type": "execute_result"
    }
   ],
   "source": [
    "get_intermealinterval([0,1,2,3,5,7,9,13,15])"
   ]
  },
  {
   "cell_type": "code",
   "execution_count": 19,
   "id": "b69a6d45-5cb7-445e-aa62-28ac7bec0387",
   "metadata": {
    "collapsed": true,
    "jupyter": {
     "outputs_hidden": true
    },
    "tags": []
   },
   "outputs": [
    {
     "name": "stdout",
     "output_type": "stream",
     "text": [
      "0.30308006535947696\n",
      "0.3161212998712999\n",
      "0.27009471766848797\n",
      "0.30469542362399493\n",
      "0.2675567356572261\n",
      "0.22796219455970468\n",
      "0.4457945205479456\n",
      "0.551035097597598\n",
      "0.3351008018327611\n",
      "0.44670776255707767\n",
      "0.2848606254856254\n",
      "0.31129807692307715\n"
     ]
    }
   ],
   "source": [
    "for mouse in PRFF:\n",
    "    IMI= get_intermealinterval (mouse)\n",
    "    print (IMI)\n",
    "    \n",
    "    "
   ]
  },
  {
   "cell_type": "code",
   "execution_count": 20,
   "id": "903bc709-c399-4303-b8ce-635465d5d86a",
   "metadata": {
    "tags": []
   },
   "outputs": [
    {
     "name": "stdout",
     "output_type": "stream",
     "text": [
      "0.4507708333333333\n",
      "0.4421192854980318\n",
      "0.4026645833333339\n",
      "0.46078440656565695\n",
      "0.35742994100295\n",
      "0.37571812596006143\n",
      "0.5181201956673659\n",
      "0.4636899188514358\n",
      "0.46933779051257557\n",
      "0.4414431075460492\n",
      "0.3625686846584002\n",
      "0.3555747126436783\n"
     ]
    }
   ],
   "source": [
    "for mouse in NRFF:\n",
    "    IMI= get_intermealinterval (mouse)\n",
    "    print (IMI)"
   ]
  },
  {
   "cell_type": "code",
   "execution_count": 21,
   "id": "e2aa5c2a-41b5-4694-b364-adb61525e3e5",
   "metadata": {
    "collapsed": true,
    "jupyter": {
     "outputs_hidden": true
    },
    "tags": []
   },
   "outputs": [
    {
     "name": "stdout",
     "output_type": "stream",
     "text": [
      "0.29319564176245194\n",
      "0.32272222222222213\n",
      "0.30599049707602344\n",
      "0.25910008322929684\n",
      "0.5234819121447029\n",
      "0.297311827956989\n",
      "0.40596318211702814\n",
      "0.3958606294155427\n",
      "0.3049902534113059\n",
      "0.3679469373219374\n",
      "0.337290305010893\n",
      "0.35282763532763534\n"
     ]
    }
   ],
   "source": [
    "for mouse in GRAINFF:\n",
    "    IMI= get_intermealinterval (mouse)\n",
    "    print (IMI)"
   ]
  },
  {
   "cell_type": "code",
   "execution_count": 22,
   "id": "b7bab7f0-64a3-4e96-bbe6-eeefa9773eb9",
   "metadata": {
    "collapsed": true,
    "jupyter": {
     "outputs_hidden": true
    },
    "tags": []
   },
   "outputs": [
    {
     "name": "stdout",
     "output_type": "stream",
     "text": [
      "1.6044002525252523\n",
      "0.6701190476190476\n",
      "3.8389043209876537\n",
      "0.7999500624219728\n",
      "1.0936709401709404\n",
      "1.1667759562841526\n",
      "0.6787101210121013\n",
      "0.3126194067370538\n",
      "1.3669444444444445\n",
      "0.528733164983165\n",
      "0.7559208937198069\n",
      "0.6076449275362319\n"
     ]
    }
   ],
   "source": [
    "for mouse in RICHECO:\n",
    "    IMI= get_intermealinterval (mouse)\n",
    "    print (IMI)"
   ]
  },
  {
   "cell_type": "code",
   "execution_count": 23,
   "id": "ea2d5bc7-0127-4cf9-ad7e-53137c4a8076",
   "metadata": {
    "collapsed": true,
    "jupyter": {
     "outputs_hidden": true
    },
    "tags": []
   },
   "outputs": [
    {
     "name": "stdout",
     "output_type": "stream",
     "text": [
      "0.3280542575285566\n",
      "0.33652173913043504\n",
      "0.295828645100797\n",
      "0.3471346469622332\n",
      "0.3485632183908048\n",
      "0.25028571428571433\n",
      "0.31658766564729873\n",
      "0.27673189383715713\n",
      "0.30123172514619884\n",
      "0.28969292076887004\n",
      "0.31058683683683685\n",
      "0.30918410563029397\n"
     ]
    }
   ],
   "source": [
    "for mouse in PRECO:\n",
    "    IMI= get_intermealinterval (mouse)\n",
    "    print (IMI)"
   ]
  },
  {
   "cell_type": "code",
   "execution_count": 24,
   "id": "740dc313-4bf2-44d2-9909-1799abca0520",
   "metadata": {
    "collapsed": true,
    "jupyter": {
     "outputs_hidden": true
    },
    "tags": []
   },
   "outputs": [
    {
     "name": "stdout",
     "output_type": "stream",
     "text": [
      "0.5674652777777777\n",
      "0.400450191570881\n",
      "0.4620888888888889\n",
      "0.47627371273712726\n",
      "0.42557158119658095\n",
      "0.389373822975518\n"
     ]
    }
   ],
   "source": [
    "for mouse in NRFR1:\n",
    "    IMI= get_intermealinterval (mouse)\n",
    "    print (IMI)"
   ]
  },
  {
   "cell_type": "code",
   "execution_count": 25,
   "id": "74fc2c47-bf47-48c8-961e-19b2179c05b2",
   "metadata": {
    "collapsed": true,
    "jupyter": {
     "outputs_hidden": true
    },
    "tags": []
   },
   "outputs": [
    {
     "name": "stdout",
     "output_type": "stream",
     "text": [
      "0.658611111111111\n",
      "0.4062816764132552\n",
      "0.5989031339031339\n",
      "0.3138850308641975\n",
      "0.5030736714975846\n",
      "0.34843589743589737\n"
     ]
    }
   ],
   "source": [
    "for mouse in NRFR1R:\n",
    "    IMI= get_intermealinterval (mouse)\n",
    "    print (IMI)"
   ]
  },
  {
   "cell_type": "code",
   "execution_count": 26,
   "id": "fc834327-cda4-464b-ae05-606876d6f589",
   "metadata": {
    "collapsed": true,
    "jupyter": {
     "outputs_hidden": true
    },
    "tags": []
   },
   "outputs": [
    {
     "name": "stdout",
     "output_type": "stream",
     "text": [
      "0.5674652777777777\n",
      "0.400450191570881\n",
      "0.4620888888888889\n",
      "0.47627371273712726\n",
      "0.42557158119658095\n",
      "0.389373822975518\n"
     ]
    }
   ],
   "source": [
    "for mouse in PRFR1:\n",
    "    IMI= get_intermealinterval (mouse)\n",
    "    print (IMI)"
   ]
  },
  {
   "cell_type": "code",
   "execution_count": 27,
   "id": "b2ff12ec-30be-4229-9f87-50c08ebfa1c7",
   "metadata": {
    "collapsed": true,
    "jupyter": {
     "outputs_hidden": true
    },
    "tags": []
   },
   "outputs": [
    {
     "name": "stdout",
     "output_type": "stream",
     "text": [
      "0.658611111111111\n",
      "0.4062816764132552\n",
      "0.5989031339031339\n",
      "0.3138850308641975\n",
      "0.5030736714975846\n",
      "0.34843589743589737\n"
     ]
    }
   ],
   "source": [
    "for mouse in PRFR1R:\n",
    "    IMI= get_intermealinterval (mouse)\n",
    "    print (IMI)"
   ]
  },
  {
   "cell_type": "code",
   "execution_count": 28,
   "id": "b3475dd7-84ef-4991-a0a5-f6c463d1b4aa",
   "metadata": {
    "jupyter": {
     "source_hidden": true
    },
    "tags": []
   },
   "outputs": [],
   "source": [
    "def get_mealsize(pellettimes):\n",
    "    \"\"\"\n",
    "    calculates meal size from times of pellets\n",
    "    parameters \n",
    "    ----------\n",
    "    pellettimes : list of floats\n",
    "        timestamps of pellet deliveries\n",
    "\n",
    "    returns\n",
    "    --------\n",
    "    mealsize : float \n",
    "        mean size of meal in pellets \n",
    "    \"\"\"\n",
    "\n",
    "        \n",
    "    npellets = len(pellettimes)\n",
    "    IPIs = np.diff(pellettimes)\n",
    "    nmeals = len([idx for idx, val in enumerate(IPIs) if val > 1/60])\n",
    "    mealsize = npellets/nmeals\n",
    "\n",
    "    return mealsize\n",
    "    "
   ]
  },
  {
   "cell_type": "code",
   "execution_count": 29,
   "id": "239ac703-54e5-4b95-abc8-2a239e5e1dc7",
   "metadata": {},
   "outputs": [
    {
     "data": {
      "text/plain": [
       "2.5441176470588234"
      ]
     },
     "execution_count": 29,
     "metadata": {},
     "output_type": "execute_result"
    }
   ],
   "source": [
    "PRFF [0]\n",
    "get_mealsize (PRFF [0])\n"
   ]
  },
  {
   "cell_type": "code",
   "execution_count": 30,
   "id": "a07db16f-0299-4b62-844d-ba64646078c4",
   "metadata": {},
   "outputs": [
    {
     "data": {
      "text/plain": [
       "4.461111111111111"
      ]
     },
     "execution_count": 30,
     "metadata": {},
     "output_type": "execute_result"
    }
   ],
   "source": [
    "NRFF [0]\n",
    "get_mealsize (NRFF [0])"
   ]
  },
  {
   "cell_type": "code",
   "execution_count": 31,
   "id": "6056175c-aafe-4323-ad96-1f223200080f",
   "metadata": {},
   "outputs": [
    {
     "data": {
      "text/plain": [
       "3.6293103448275863"
      ]
     },
     "execution_count": 31,
     "metadata": {},
     "output_type": "execute_result"
    }
   ],
   "source": [
    "GRAINFF [0]\n",
    "get_mealsize (GRAINFF [0])"
   ]
  },
  {
   "cell_type": "code",
   "execution_count": 32,
   "id": "5a5adf81-6d51-4012-aa4b-57280b4bcd4a",
   "metadata": {},
   "outputs": [
    {
     "data": {
      "text/plain": [
       "1.1136363636363635"
      ]
     },
     "execution_count": 32,
     "metadata": {},
     "output_type": "execute_result"
    }
   ],
   "source": [
    "RICHECO [0]\n",
    "get_mealsize (RICHECO [0])"
   ]
  },
  {
   "cell_type": "code",
   "execution_count": 33,
   "id": "0f3f8106-692d-424a-8e4e-e7d87019c34c",
   "metadata": {},
   "outputs": [
    {
     "data": {
      "text/plain": [
       "1.4906542056074767"
      ]
     },
     "execution_count": 33,
     "metadata": {},
     "output_type": "execute_result"
    }
   ],
   "source": [
    "PRECO [0]\n",
    "get_mealsize (PRECO [0])"
   ]
  },
  {
   "cell_type": "code",
   "execution_count": 34,
   "id": "a0f63282-419a-4275-a794-8584a6543535",
   "metadata": {},
   "outputs": [
    {
     "data": {
      "text/plain": [
       "3.975"
      ]
     },
     "execution_count": 34,
     "metadata": {},
     "output_type": "execute_result"
    }
   ],
   "source": [
    "NRFR1 [0]\n",
    "get_mealsize (NRFR1 [0])"
   ]
  },
  {
   "cell_type": "code",
   "execution_count": 35,
   "id": "540893e9-f720-4685-880a-4dcd519d169b",
   "metadata": {},
   "outputs": [
    {
     "data": {
      "text/plain": [
       "5.529411764705882"
      ]
     },
     "execution_count": 35,
     "metadata": {},
     "output_type": "execute_result"
    }
   ],
   "source": [
    "NRFR1R [0]\n",
    "get_mealsize (NRFR1R [0])"
   ]
  },
  {
   "cell_type": "code",
   "execution_count": 36,
   "id": "a6353c25-b25b-4fbd-8756-0e04a46f17a0",
   "metadata": {},
   "outputs": [
    {
     "data": {
      "text/plain": [
       "3.975"
      ]
     },
     "execution_count": 36,
     "metadata": {},
     "output_type": "execute_result"
    }
   ],
   "source": [
    "PRFR1 [0]\n",
    "get_mealsize (PRFR1 [0])"
   ]
  },
  {
   "cell_type": "code",
   "execution_count": 37,
   "id": "2d3e6f43-1eac-4bab-86d0-50c935706be2",
   "metadata": {},
   "outputs": [
    {
     "data": {
      "text/plain": [
       "5.529411764705882"
      ]
     },
     "execution_count": 37,
     "metadata": {},
     "output_type": "execute_result"
    }
   ],
   "source": [
    "PRFR1R [0]\n",
    "get_mealsize (PRFR1R [0])"
   ]
  },
  {
   "cell_type": "code",
   "execution_count": 38,
   "id": "d1101268-a7a2-4c39-9bcd-111c92a8f1d8",
   "metadata": {
    "collapsed": true,
    "jupyter": {
     "outputs_hidden": true
    },
    "tags": []
   },
   "outputs": [
    {
     "data": {
      "text/plain": [
       "\u001b[1;31mSignature:\u001b[0m \u001b[0mget_mealsize\u001b[0m\u001b[1;33m(\u001b[0m\u001b[0mpellettimes\u001b[0m\u001b[1;33m)\u001b[0m\u001b[1;33m\u001b[0m\u001b[1;33m\u001b[0m\u001b[0m\n",
       "\u001b[1;31mDocstring:\u001b[0m\n",
       "calculates meal size from times of pellets\n",
       "parameters \n",
       "----------\n",
       "pellettimes : list of floats\n",
       "    timestamps of pellet deliveries\n",
       "\n",
       "returns\n",
       "--------\n",
       "mealsize : float \n",
       "    mean size of meal in pellets \n",
       "\u001b[1;31mFile:\u001b[0m      c:\\users\\hta031\\github\\fedprotein\\<ipython-input-28-806c738524ca>\n",
       "\u001b[1;31mType:\u001b[0m      function\n"
      ]
     },
     "metadata": {},
     "output_type": "display_data"
    }
   ],
   "source": [
    "get_mealsize?"
   ]
  },
  {
   "cell_type": "code",
   "execution_count": null,
   "id": "eb5c858f-eda9-4cbb-9f1e-4edf55c3a488",
   "metadata": {},
   "outputs": [],
   "source": []
  },
  {
   "cell_type": "code",
   "execution_count": 51,
   "id": "bf74cd32-23fd-4d7b-9346-1feb64c15233",
   "metadata": {},
   "outputs": [
    {
     "name": "stdout",
     "output_type": "stream",
     "text": [
      "##################\n",
      "[3.6293103448275863, 3.358139534883721, 3.1184210526315788, 2.902621722846442, 5.542635658914729, 3.638709677419355, 4.538461538461538, 4.473988439306359, 3.0921052631578947, 4.455128205128205, 3.926470588235294, 3.533333333333333]\n",
      "###############\n",
      "[2.5441176470588234, 2.675675675675676, 2.6885245901639343, 2.7810760667903525, 2.5392156862745097, 2.060857538035961, 3.5013698630136987, 3.679054054054054, 2.975257731958763, 3.5424657534246577, 2.452797202797203, 3.1615384615384614]\n",
      "################\n",
      "[4.461111111111111, 3.5885558583106265, 4.965, 4.857954545454546, 3.911504424778761, 3.2327188940092166, 4.135220125786163, 3.6376404494382024, 3.805157593123209, 3.783422459893048, 3.0043763676148796, 3.0797413793103448]\n"
     ]
    }
   ],
   "source": [
    "PR_mealsize=[]\n",
    "NR_mealsize=[]\n",
    "GRAIN_mealsize=[]\n",
    "\n",
    "for mouse in GRAINFF:\n",
    "    mealsize= get_mealsize (mouse)\n",
    "    \n",
    "    GRAIN_mealsize.append(mealsize)\n",
    "\n",
    "\n",
    "\n",
    "for mouse in PRFF:\n",
    "    mealsize= get_mealsize (mouse)\n",
    "    \n",
    "    PR_mealsize.append(mealsize)\n",
    "\n",
    "    \n",
    "print (\"##################\")    \n",
    "\n",
    "    \n",
    "    \n",
    "for mouse in NRFF:\n",
    "    mealsize= get_mealsize (mouse)\n",
    "    NR_mealsize.append(mealsize)\n",
    "\n",
    "print (GRAIN_mealsize)\n",
    "\n",
    "print (\"###############\")\n",
    "\n",
    "    \n",
    "print (PR_mealsize)\n",
    "    \n",
    "\n",
    "print (\"################\")\n",
    "\n",
    "print (NR_mealsize)"
   ]
  },
  {
   "cell_type": "code",
   "execution_count": 64,
   "id": "4bee522b-9243-4b18-945d-4430e8cabce2",
   "metadata": {},
   "outputs": [
    {
     "data": {
      "text/plain": [
       "Text(0.5, 0, 'Diet')"
      ]
     },
     "execution_count": 64,
     "metadata": {},
     "output_type": "execute_result"
    },
    {
     "data": {
      "image/png": "[encoded data removed]",
      "text/plain": [
       "<Figure size 432x288 with 1 Axes>"
      ]
     },
     "metadata": {
      "needs_background": "light"
     },
     "output_type": "display_data"
    }
   ],
   "source": [
    "import matplotlib.pyplot as plt\n",
    "f,ax= plt.subplots ()\n",
    "tp.barscatter([GRAIN_mealsize,PR_mealsize, NR_mealsize], ax=ax, barfacecolor= [\"gold\",\"red\", \"green\"],barfacecoloroption= \"individual\")\n",
    "ax.set_ylabel(\"mealsize\")\n",
    "ax.set_xlabel(\"Diet\")"
   ]
  },
  {
   "cell_type": "code",
   "execution_count": 65,
   "id": "f039d8b6-5269-4519-ac6f-e7e52b702e17",
   "metadata": {},
   "outputs": [],
   "source": [
    "f.savefig(\"C:\\\\Users\\\\hta031\\OneDrive - UiT Office 365\\\\Documents\\\\People\\\\Hamid\\\\Presentations\\\\SSIB2022\\\\Poster\\\\Fig\\\\mealsize.eps\")"
   ]
  },
  {
   "cell_type": "code",
   "execution_count": 41,
   "id": "5dfa392f-4d34-4942-a1cf-3e66d4686d40",
   "metadata": {
    "collapsed": true,
    "jupyter": {
     "outputs_hidden": true
    },
    "tags": []
   },
   "outputs": [
    {
     "data": {
      "text/plain": [
       "\u001b[1;31mSignature:\u001b[0m\n",
       "\u001b[0mtp\u001b[0m\u001b[1;33m.\u001b[0m\u001b[0mbarscatter\u001b[0m\u001b[1;33m(\u001b[0m\u001b[1;33m\n",
       "\u001b[0m    \u001b[0mdata\u001b[0m\u001b[1;33m,\u001b[0m\u001b[1;33m\n",
       "\u001b[0m    \u001b[0mtranspose\u001b[0m\u001b[1;33m=\u001b[0m\u001b[1;32mFalse\u001b[0m\u001b[1;33m,\u001b[0m\u001b[1;33m\n",
       "\u001b[0m    \u001b[0mgroupwidth\u001b[0m\u001b[1;33m=\u001b[0m\u001b[1;36m0.75\u001b[0m\u001b[1;33m,\u001b[0m\u001b[1;33m\n",
       "\u001b[0m    \u001b[0mbarwidth\u001b[0m\u001b[1;33m=\u001b[0m\u001b[1;36m0.8\u001b[0m\u001b[1;33m,\u001b[0m\u001b[1;33m\n",
       "\u001b[0m    \u001b[0mpaired\u001b[0m\u001b[1;33m=\u001b[0m\u001b[1;32mFalse\u001b[0m\u001b[1;33m,\u001b[0m\u001b[1;33m\n",
       "\u001b[0m    \u001b[0munequal\u001b[0m\u001b[1;33m=\u001b[0m\u001b[1;32mFalse\u001b[0m\u001b[1;33m,\u001b[0m\u001b[1;33m\n",
       "\u001b[0m    \u001b[0mspaced\u001b[0m\u001b[1;33m=\u001b[0m\u001b[1;32mFalse\u001b[0m\u001b[1;33m,\u001b[0m\u001b[1;33m\n",
       "\u001b[0m    \u001b[0myspace\u001b[0m\u001b[1;33m=\u001b[0m\u001b[1;36m20\u001b[0m\u001b[1;33m,\u001b[0m\u001b[1;33m\n",
       "\u001b[0m    \u001b[0mxspace\u001b[0m\u001b[1;33m=\u001b[0m\u001b[1;36m0.1\u001b[0m\u001b[1;33m,\u001b[0m\u001b[1;33m\n",
       "\u001b[0m    \u001b[0mbarfacecoloroption\u001b[0m\u001b[1;33m=\u001b[0m\u001b[1;34m'same'\u001b[0m\u001b[1;33m,\u001b[0m\u001b[1;33m\n",
       "\u001b[0m    \u001b[0mbarfacecolor\u001b[0m\u001b[1;33m=\u001b[0m\u001b[1;33m[\u001b[0m\u001b[1;34m'white'\u001b[0m\u001b[1;33m]\u001b[0m\u001b[1;33m,\u001b[0m\u001b[1;33m\n",
       "\u001b[0m    \u001b[0mbaredgecoloroption\u001b[0m\u001b[1;33m=\u001b[0m\u001b[1;34m'same'\u001b[0m\u001b[1;33m,\u001b[0m\u001b[1;33m\n",
       "\u001b[0m    \u001b[0mbaredgecolor\u001b[0m\u001b[1;33m=\u001b[0m\u001b[1;33m[\u001b[0m\u001b[1;34m'black'\u001b[0m\u001b[1;33m]\u001b[0m\u001b[1;33m,\u001b[0m\u001b[1;33m\n",
       "\u001b[0m    \u001b[0mbaralpha\u001b[0m\u001b[1;33m=\u001b[0m\u001b[1;36m1\u001b[0m\u001b[1;33m,\u001b[0m\u001b[1;33m\n",
       "\u001b[0m    \u001b[0mscatterfacecoloroption\u001b[0m\u001b[1;33m=\u001b[0m\u001b[1;34m'same'\u001b[0m\u001b[1;33m,\u001b[0m\u001b[1;33m\n",
       "\u001b[0m    \u001b[0mscatterfacecolor\u001b[0m\u001b[1;33m=\u001b[0m\u001b[1;33m[\u001b[0m\u001b[1;34m'white'\u001b[0m\u001b[1;33m]\u001b[0m\u001b[1;33m,\u001b[0m\u001b[1;33m\n",
       "\u001b[0m    \u001b[0mscatteredgecoloroption\u001b[0m\u001b[1;33m=\u001b[0m\u001b[1;34m'same'\u001b[0m\u001b[1;33m,\u001b[0m\u001b[1;33m\n",
       "\u001b[0m    \u001b[0mscatteredgecolor\u001b[0m\u001b[1;33m=\u001b[0m\u001b[1;33m[\u001b[0m\u001b[1;34m'grey'\u001b[0m\u001b[1;33m]\u001b[0m\u001b[1;33m,\u001b[0m\u001b[1;33m\n",
       "\u001b[0m    \u001b[0mscatterlinecolor\u001b[0m\u001b[1;33m=\u001b[0m\u001b[1;34m'grey'\u001b[0m\u001b[1;33m,\u001b[0m\u001b[1;33m\n",
       "\u001b[0m    \u001b[0mscattersize\u001b[0m\u001b[1;33m=\u001b[0m\u001b[1;36m80\u001b[0m\u001b[1;33m,\u001b[0m\u001b[1;33m\n",
       "\u001b[0m    \u001b[0mscatteralpha\u001b[0m\u001b[1;33m=\u001b[0m\u001b[1;36m1\u001b[0m\u001b[1;33m,\u001b[0m\u001b[1;33m\n",
       "\u001b[0m    \u001b[0mspreadscatters\u001b[0m\u001b[1;33m=\u001b[0m\u001b[1;32mFalse\u001b[0m\u001b[1;33m,\u001b[0m\u001b[1;33m\n",
       "\u001b[0m    \u001b[0mlinewidth\u001b[0m\u001b[1;33m=\u001b[0m\u001b[1;36m0.75\u001b[0m\u001b[1;33m,\u001b[0m\u001b[1;33m\n",
       "\u001b[0m    \u001b[0mxlim\u001b[0m\u001b[1;33m=\u001b[0m\u001b[1;33m[\u001b[0m\u001b[1;33m]\u001b[0m\u001b[1;33m,\u001b[0m\u001b[1;33m\n",
       "\u001b[0m    \u001b[0mylim\u001b[0m\u001b[1;33m=\u001b[0m\u001b[1;33m[\u001b[0m\u001b[1;33m]\u001b[0m\u001b[1;33m,\u001b[0m\u001b[1;33m\n",
       "\u001b[0m    \u001b[0mylabel\u001b[0m\u001b[1;33m=\u001b[0m\u001b[1;34m'none'\u001b[0m\u001b[1;33m,\u001b[0m\u001b[1;33m\n",
       "\u001b[0m    \u001b[0mxlabel\u001b[0m\u001b[1;33m=\u001b[0m\u001b[1;34m'none'\u001b[0m\u001b[1;33m,\u001b[0m\u001b[1;33m\n",
       "\u001b[0m    \u001b[0mgrouplabel\u001b[0m\u001b[1;33m=\u001b[0m\u001b[1;34m'auto'\u001b[0m\u001b[1;33m,\u001b[0m\u001b[1;33m\n",
       "\u001b[0m    \u001b[0mitemlabel\u001b[0m\u001b[1;33m=\u001b[0m\u001b[1;34m'none'\u001b[0m\u001b[1;33m,\u001b[0m\u001b[1;33m\n",
       "\u001b[0m    \u001b[0mbarlabels\u001b[0m\u001b[1;33m=\u001b[0m\u001b[1;33m[\u001b[0m\u001b[1;33m]\u001b[0m\u001b[1;33m,\u001b[0m\u001b[1;33m\n",
       "\u001b[0m    \u001b[0mbarlabeloffset\u001b[0m\u001b[1;33m=\u001b[0m\u001b[1;36m0.025\u001b[0m\u001b[1;33m,\u001b[0m\u001b[1;33m\n",
       "\u001b[0m    \u001b[0mgrouplabeloffset\u001b[0m\u001b[1;33m=\u001b[0m\u001b[1;36m0\u001b[0m\u001b[1;33m,\u001b[0m\u001b[1;33m\n",
       "\u001b[0m    \u001b[0myaxisparams\u001b[0m\u001b[1;33m=\u001b[0m\u001b[1;34m'auto'\u001b[0m\u001b[1;33m,\u001b[0m\u001b[1;33m\n",
       "\u001b[0m    \u001b[0mshow_legend\u001b[0m\u001b[1;33m=\u001b[0m\u001b[1;34m'none'\u001b[0m\u001b[1;33m,\u001b[0m\u001b[1;33m\n",
       "\u001b[0m    \u001b[0mlegendloc\u001b[0m\u001b[1;33m=\u001b[0m\u001b[1;34m'upper right'\u001b[0m\u001b[1;33m,\u001b[0m\u001b[1;33m\n",
       "\u001b[0m    \u001b[0mxfontsize\u001b[0m\u001b[1;33m=\u001b[0m\u001b[1;36m8\u001b[0m\u001b[1;33m,\u001b[0m\u001b[1;33m\n",
       "\u001b[0m    \u001b[0max\u001b[0m\u001b[1;33m=\u001b[0m\u001b[1;33m[\u001b[0m\u001b[1;33m]\u001b[0m\u001b[1;33m,\u001b[0m\u001b[1;33m\n",
       "\u001b[0m\u001b[1;33m)\u001b[0m\u001b[1;33m\u001b[0m\u001b[1;33m\u001b[0m\u001b[0m\n",
       "\u001b[1;31mDocstring:\u001b[0m\n",
       "Description: Creates a bar graph with data points shown as overlaid circles.\n",
       "\n",
       "Args:\n",
       "    data - Required. Should be a list (or list of lists) or an array. Will try to convert if needed.\n",
       "    barwidth - width if bars, default=0.9\n",
       "    paired - attempts to add lines between paired data points, default=False\n",
       "    unequal - Boolean, set to True if groups are unequal, default=False\n",
       "    spaced - spaces out data points so that they are not at an identical x value, default=False\n",
       "    yspace - used in conjunction with spaced to determine spacing of data points, defalt=20\n",
       "    xspace - used in conjunction with spaced to determine spacing of data points, defalt=0.1\n",
       "    barfacecoloroption - chooses bar color option, default='same' other options are 'between' or 'individual'\n",
       "    barfacecolor - list of bar face colors, if 'between' or 'individual' is chosen for above option then number of colors needs to match number of bars or groups. defalt=['white']\n",
       "    baredgecoloroption - chooses bar edge option, default='same', see notes on barfacecoloroption\n",
       "    baredgecolor - list of bar edge colors, defalt=['black'], see notes on barfacecolor\n",
       "    baralpha - sets opacity of bars, default=1\n",
       "    scatterfacecoloroption - chooses scatter face option, default='same', see notes on barfacecoloroption\n",
       "    scatterfacecolor - list of scatter face colors, defalt=['white'], see notes on barfacecolor\n",
       "    scatteredgecoloroption - chooses scatter edge option, default='same', see notes on barfacecoloroption\n",
       "    scatteredgecolor - list of scatter face colors, defalt=['grey'], see notes on barfacecolor\n",
       "    scatterlinecolor - color of lines connecting related data points, should not be in a list, default='grey'\n",
       "    scattersize - size of datapoints, default=80\n",
       "    scatteralpha -sets opacity of scatter points, default=1\n",
       "    spreadscatters - to be checked!\n",
       "    linewidth - width of lines, default=0.75\n",
       "    xlim - sets x limits, default=[]\n",
       "    ylim - sets y limits, default=[]\n",
       "    ylabel - sets y axis label, default='none'\n",
       "    xlabel - sets x axis label, default='none',\n",
       "    grouplabel - sets labels for each group, default='auto'\n",
       "    itemlabel - to be checked! default='none',\n",
       "    barlabels - sets labels for each bar, default=[]\n",
       "    barlabeloffset - sets barlabels offset to x baseline, default=0.025\n",
       "    grouplabeloffset - sets grouplabels offset to x baseline, default=0.0250,\n",
       "    yaxisparams - to be checked!\n",
       "    show_legend - shows legend, default='none'\n",
       "    legendloc - sets legend location, default='upper right'\n",
       "    xfontsize - sets x axis font size, default=8\n",
       "    ax - plots in axis object if provided, default=[]\n",
       "\n",
       "Returns:\n",
       "    ax - axis object\n",
       "    barx - x values where each bar is plotted\n",
       "    barlist - list of bar containers (can be modified)\n",
       "    sclist - list of scatter containers (can be modified)\n",
       "\u001b[1;31mFile:\u001b[0m      c:\\users\\hta031\\anaconda3\\lib\\site-packages\\trompy\\barscatter.py\n",
       "\u001b[1;31mType:\u001b[0m      function\n"
      ]
     },
     "metadata": {},
     "output_type": "display_data"
    }
   ],
   "source": [
    "tp.barscatter?"
   ]
  },
  {
   "cell_type": "code",
   "execution_count": 70,
   "id": "5a2e9a59-d3ad-49bd-94f5-59ac6b2c0779",
   "metadata": {
    "tags": []
   },
   "outputs": [
    {
     "data": {
      "text/plain": [
       "Text(0.5, 0, 'Diet')"
      ]
     },
     "execution_count": 70,
     "metadata": {},
     "output_type": "execute_result"
    },
    {
     "data": {
      "image/png": "[encoded data removed]",
      "text/plain": [
       "<Figure size 432x288 with 1 Axes>"
      ]
     },
     "metadata": {
      "needs_background": "light"
     },
     "output_type": "display_data"
    }
   ],
   "source": [
    "f,ax= plt.subplots ()\n",
    "tp.barscatter([GRAIN,PR,NR], ax=ax, barfacecolor= [\"gold\", \"red\", \"green\"],barfacecoloroption= \"individual\", linewidth=1, scattersize=30, scatteredgecolor=\"k\")\n",
    "ax.set_ylabel(\"intermealinterval\")\n",
    "ax.set_xlabel(\"Diet\")\n"
   ]
  },
  {
   "cell_type": "code",
   "execution_count": 67,
   "id": "3f90e9e1-45aa-41ff-8923-2dc4ded27a9a",
   "metadata": {},
   "outputs": [],
   "source": [
    "f.savefig(\"C:\\\\Users\\\\hta031\\OneDrive - UiT Office 365\\\\Documents\\\\People\\\\Hamid\\\\Presentations\\\\SSIB2022\\\\Poster\\\\Fig\\\\intermealinterval.eps\")"
   ]
  },
  {
   "cell_type": "code",
   "execution_count": 116,
   "id": "f09ee6b6-f71d-4e25-9cd9-7049d8bad1db",
   "metadata": {},
   "outputs": [
    {
     "name": "stdout",
     "output_type": "stream",
     "text": [
      "[3.6293103448275863, 3.358139534883721, 3.1184210526315788, 2.902621722846442, 5.542635658914729, 3.638709677419355]\n",
      "##################\n",
      "[2.5441176470588234, 2.675675675675676, 2.6885245901639343, 2.7810760667903525, 2.5392156862745097, 2.060857538035961]\n",
      "##################\n",
      "[4.461111111111111, 3.5885558583106265, 4.965, 4.857954545454546, 3.911504424778761, 3.2327188940092166]\n",
      "%%%%%%%%%%%%%%%%%%%%%%%%%%%%%%%%%%%%%%%%%%%%%%%%%%\n"
     ]
    },
    {
     "data": {
      "text/plain": [
       "Text(0.5, 0, 'Diet')"
      ]
     },
     "execution_count": 116,
     "metadata": {},
     "output_type": "execute_result"
    },
    {
     "data": {
      "image/png": "[encoded data removed]",
      "text/plain": [
       "<Figure size 432x288 with 1 Axes>"
      ]
     },
     "metadata": {
      "needs_background": "light"
     },
     "output_type": "display_data"
    }
   ],
   "source": [
    "PRNRFF1=[]\n",
    "for row in metafilerows:\n",
    "    if row [2] == \"PR\":\n",
    "        if row[5] == 2:\n",
    "            if row[3] ==\"FF\":\n",
    "                filename = row[0]\n",
    "                x= get_FEDevents (\"data\\\\{}\".format(filename) , \"Pellet\")\n",
    "                PRNRFF1.append(x)\n",
    "    \n",
    "GRAINFFPRNR=[]\n",
    "for row in metafilerows:\n",
    "    if row [2] == \"GRAIN\":\n",
    "        if row[5] == 2:\n",
    "            if row[3] ==\"FF\":\n",
    "                filename = row[0]\n",
    "                x= get_FEDevents (\"data\\\\{}\".format(filename) , \"Pellet\")\n",
    "                GRAINFFPRNR.append(x)\n",
    "            \n",
    "PRNRFF2=[]\n",
    "for row in metafilerows:\n",
    "    if row[2] == \"NR\":\n",
    "        if row[5] == 2:\n",
    "            if row[3] ==\"FF\":\n",
    "                filename = row[0]\n",
    "                x= get_FEDevents (\"data\\\\{}\".format(filename) , \"Pellet\")\n",
    "                PRNRFF2.append(x)          \n",
    "\n",
    "    \n",
    "            \n",
    "            \n",
    "\n",
    "\n",
    "\n",
    "PRNRFF1_mealsize=[]\n",
    "PRNRFF2_mealsize=[]\n",
    "GRAINFFPRNR_mealsize=[]\n",
    "\n",
    "for mouse in GRAINFFPRNR:\n",
    "    mealsize= get_mealsize (mouse)\n",
    "    \n",
    "    GRAINFFPRNR_mealsize.append(mealsize)\n",
    "\n",
    "print (GRAINFFPRNR_mealsize)\n",
    "print (\"##################\")\n",
    "\n",
    "for mouse in PRNRFF1:\n",
    "    mealsize= get_mealsize (mouse)\n",
    "    \n",
    "    PRNRFF1_mealsize.append(mealsize)\n",
    "\n",
    "print (PRNRFF1_mealsize)    \n",
    "print (\"##################\")    \n",
    "\n",
    "    \n",
    "    \n",
    "for mouse in PRNRFF2:\n",
    "    mealsize= get_mealsize (mouse)\n",
    "    PRNRFF2_mealsize.append(mealsize)\n",
    "    \n",
    "print (PRNRFF2_mealsize)\n",
    "\n",
    "print(\"%%%%%%%%%%%%%%%%%%%%%%%%%%%%%%%%%%%%%%%%%%%%%%%%%%\")\n",
    "\n",
    "import matplotlib.pyplot as plt\n",
    "f,ax= plt.subplots ()\n",
    "tp.barscatter([GRAINFFPRNR_mealsize,PRNRFF1_mealsize, PRNRFF2_mealsize], ax=ax, barfacecolor= [\"gold\",\"red\", \"green\"],barfacecoloroption= \"individual\")\n",
    "ax.set_ylabel(\"mealsize\")\n",
    "ax.set_xlabel(\"Diet\")"
   ]
  },
  {
   "cell_type": "code",
   "execution_count": 131,
   "id": "29e20659-2c38-4336-8ad0-2998a2201feb",
   "metadata": {},
   "outputs": [
    {
     "name": "stdout",
     "output_type": "stream",
     "text": [
      "[4.538461538461538, 4.473988439306359, 3.0921052631578947, 4.455128205128205, 3.926470588235294, 3.533333333333333]\n",
      "##################\n",
      "[4.135220125786163, 3.6376404494382024, 3.805157593123209, 3.783422459893048, 3.0043763676148796, 3.0797413793103448]\n",
      "##################\n",
      "[3.5013698630136987, 3.679054054054054, 2.975257731958763, 3.5424657534246577, 2.452797202797203, 3.1615384615384614]\n",
      "%%%%%%%%%%%%%%%%%%%%%%%%%%%%%%%%%%%%%%%%%%%%%%%%%%\n"
     ]
    },
    {
     "data": {
      "text/plain": [
       "Text(0.5, 0, 'Diet')"
      ]
     },
     "execution_count": 131,
     "metadata": {},
     "output_type": "execute_result"
    },
    {
     "data": {
      "image/png": "[encoded data removed]",
      "text/plain": [
       "<Figure size 432x288 with 1 Axes>"
      ]
     },
     "metadata": {
      "needs_background": "light"
     },
     "output_type": "display_data"
    }
   ],
   "source": [
    "NRPRFF1=[]\n",
    "for row in metafilerows:\n",
    "    if row [2] == \"NR\":\n",
    "        if row[5] == 1:\n",
    "            if row[3] ==\"FF\":\n",
    "                filename = row[0]\n",
    "                x= get_FEDevents (\"data\\\\{}\".format(filename) , \"Pellet\")\n",
    "                NRPRFF1.append(x)\n",
    "    \n",
    "GRAINFFNRPR=[]\n",
    "for row in metafilerows:\n",
    "    if row [2] == \"GRAIN\":\n",
    "        if row[5] == 1:\n",
    "            if row[3] ==\"FF\":\n",
    "                filename = row[0]\n",
    "                x= get_FEDevents (\"data\\\\{}\".format(filename) , \"Pellet\")\n",
    "                GRAINFFNRPR.append(x)\n",
    "            \n",
    "NRPRFF2=[]\n",
    "for row in metafilerows:\n",
    "    if row[2] == \"PR\":\n",
    "        if row[5] == 1:\n",
    "            if row[3] ==\"FF\":\n",
    "                filename = row[0]\n",
    "                x= get_FEDevents (\"data\\\\{}\".format(filename) , \"Pellet\")\n",
    "                NRPRFF2.append(x)          \n",
    "\n",
    "    \n",
    "            \n",
    "            \n",
    "\n",
    "\n",
    "\n",
    "NRPRFF1_mealsize=[]\n",
    "NRPRFF2_mealsize=[]\n",
    "GRAINFFNRPR_mealsize=[]\n",
    "\n",
    "for mouse in GRAINFFNRPR:\n",
    "    mealsize= get_mealsize (mouse)\n",
    "    \n",
    "    GRAINFFNRPR_mealsize.append(mealsize)\n",
    "\n",
    "print (GRAINFFNRPR_mealsize)\n",
    "print (\"##################\")\n",
    "\n",
    "for mouse in NRPRFF1:\n",
    "    mealsize= get_mealsize (mouse)\n",
    "    \n",
    "    NRPRFF1_mealsize.append(mealsize)\n",
    "\n",
    "print (NRPRFF1_mealsize)    \n",
    "print (\"##################\")    \n",
    "\n",
    "    \n",
    "    \n",
    "for mouse in NRPRFF2:\n",
    "    mealsize= get_mealsize (mouse)\n",
    "    NRPRFF2_mealsize.append(mealsize)\n",
    "    \n",
    "print (NRPRFF2_mealsize)\n",
    "\n",
    "print(\"%%%%%%%%%%%%%%%%%%%%%%%%%%%%%%%%%%%%%%%%%%%%%%%%%%\")\n",
    "\n",
    "import matplotlib.pyplot as plt\n",
    "f,ax= plt.subplots ()\n",
    "tp.barscatter([GRAINFFNRPR_mealsize,NRPRFF1_mealsize, NRPRFF2_mealsize], ax=ax, barfacecolor= [\"gold\",\"red\", \"green\"],barfacecoloroption= \"individual\")\n",
    "ax.set_ylabel(\"mealsize\")\n",
    "ax.set_xlabel(\"Diet\")"
   ]
  },
  {
   "cell_type": "code",
   "execution_count": 226,
   "id": "2ae1b247-bfd7-40ac-a7d6-ab2bf5039e83",
   "metadata": {},
   "outputs": [
    {
     "data": {
      "text/plain": [
       "Text(0.5, 0, 'Diet')"
      ]
     },
     "execution_count": 226,
     "metadata": {},
     "output_type": "execute_result"
    },
    {
     "data": {
      "image/png": "[encoded data removed]",
      "text/plain": [
       "<Figure size 540x252 with 1 Axes>"
      ]
     },
     "metadata": {
      "needs_background": "light"
     },
     "output_type": "display_data"
    }
   ],
   "source": [
    "\n",
    "\n",
    "import matplotlib.pyplot as plt\n",
    "f,ax= plt.subplots ()\n",
    "\n",
    "\n",
    "\n",
    "ax,barx,barlist, sclist= tp.barscatter([[NRPRFF1_mealsize,NRPRFF2_mealsize],[PRNRFF1_mealsize,PRNRFF2_mealsize ]], ax=ax, barfacecolor= [\"green\", \"red\",\"red\", \"green\"],barfacecoloroption= \"individual\", paired = True)\n",
    "ax.set_ylabel(\"mealsize\")\n",
    "ax.set_xlabel(\"Diet\")"
   ]
  },
  {
   "cell_type": "code",
   "execution_count": 229,
   "id": "893d8c6a-67b7-4d6a-9a4b-442310b4df30",
   "metadata": {},
   "outputs": [
    {
     "data": {
      "text/plain": [
       "['__add__',\n",
       " '__class__',\n",
       " '__contains__',\n",
       " '__delattr__',\n",
       " '__dict__',\n",
       " '__dir__',\n",
       " '__doc__',\n",
       " '__eq__',\n",
       " '__format__',\n",
       " '__ge__',\n",
       " '__getattribute__',\n",
       " '__getitem__',\n",
       " '__getnewargs__',\n",
       " '__gt__',\n",
       " '__hash__',\n",
       " '__init__',\n",
       " '__init_subclass__',\n",
       " '__iter__',\n",
       " '__le__',\n",
       " '__len__',\n",
       " '__lt__',\n",
       " '__module__',\n",
       " '__mul__',\n",
       " '__ne__',\n",
       " '__new__',\n",
       " '__reduce__',\n",
       " '__reduce_ex__',\n",
       " '__repr__',\n",
       " '__rmul__',\n",
       " '__setattr__',\n",
       " '__sizeof__',\n",
       " '__str__',\n",
       " '__subclasshook__',\n",
       " '_label',\n",
       " '_oid',\n",
       " '_propobservers',\n",
       " '_remove_method',\n",
       " 'add_callback',\n",
       " 'count',\n",
       " 'errorbar',\n",
       " 'eventson',\n",
       " 'get_children',\n",
       " 'get_label',\n",
       " 'index',\n",
       " 'patches',\n",
       " 'pchanged',\n",
       " 'remove',\n",
       " 'remove_callback',\n",
       " 'set_label',\n",
       " 'stale']"
      ]
     },
     "execution_count": 229,
     "metadata": {},
     "output_type": "execute_result"
    }
   ],
   "source": [
    "dir (barlist [2]) "
   ]
  },
  {
   "cell_type": "code",
   "execution_count": null,
   "id": "7cc6c00c-37ac-4128-9c8d-ac33bca52454",
   "metadata": {},
   "outputs": [],
   "source": []
  },
  {
   "cell_type": "code",
   "execution_count": 224,
   "id": "54adf7ec-60b7-4a37-9f3b-25e6b31519c5",
   "metadata": {},
   "outputs": [],
   "source": [
    "f.savefig(\"C:\\\\Users\\\\hta031\\OneDrive - UiT Office 365\\\\Documents\\\\People\\\\Hamid\\\\Presentations\\\\SSIB2022\\\\Poster\\\\Fig\\\\mealsizedynamics.eps\")"
   ]
  },
  {
   "cell_type": "code",
   "execution_count": 214,
   "id": "87f60b95-f0da-4da9-9a6c-6b07e5554f87",
   "metadata": {},
   "outputs": [
    {
     "data": {
      "text/plain": [
       "<BarContainer object of 6 artists>"
      ]
     },
     "execution_count": 214,
     "metadata": {},
     "output_type": "execute_result"
    },
    {
     "data": {
      "image/png": "[encoded data removed]",
      "text/plain": [
       "<Figure size 540x252 with 1 Axes>"
      ]
     },
     "metadata": {
      "needs_background": "light"
     },
     "output_type": "display_data"
    }
   ],
   "source": [
    "plt.bar(range (len(NRPRFF1_mealsize)), NRPRFF1_mealsize, hatch = \"/\")"
   ]
  },
  {
   "cell_type": "code",
   "execution_count": 225,
   "id": "c314c8f6-4796-4d82-bd2e-826db06ae2d2",
   "metadata": {},
   "outputs": [
    {
     "data": {
      "text/plain": [
       "\u001b[1;31mSignature:\u001b[0m\n",
       "\u001b[0mtp\u001b[0m\u001b[1;33m.\u001b[0m\u001b[0mbarscatter\u001b[0m\u001b[1;33m(\u001b[0m\u001b[1;33m\n",
       "\u001b[0m    \u001b[0mdata\u001b[0m\u001b[1;33m,\u001b[0m\u001b[1;33m\n",
       "\u001b[0m    \u001b[0mtranspose\u001b[0m\u001b[1;33m=\u001b[0m\u001b[1;32mFalse\u001b[0m\u001b[1;33m,\u001b[0m\u001b[1;33m\n",
       "\u001b[0m    \u001b[0mgroupwidth\u001b[0m\u001b[1;33m=\u001b[0m\u001b[1;36m0.75\u001b[0m\u001b[1;33m,\u001b[0m\u001b[1;33m\n",
       "\u001b[0m    \u001b[0mbarwidth\u001b[0m\u001b[1;33m=\u001b[0m\u001b[1;36m0.8\u001b[0m\u001b[1;33m,\u001b[0m\u001b[1;33m\n",
       "\u001b[0m    \u001b[0mpaired\u001b[0m\u001b[1;33m=\u001b[0m\u001b[1;32mFalse\u001b[0m\u001b[1;33m,\u001b[0m\u001b[1;33m\n",
       "\u001b[0m    \u001b[0munequal\u001b[0m\u001b[1;33m=\u001b[0m\u001b[1;32mFalse\u001b[0m\u001b[1;33m,\u001b[0m\u001b[1;33m\n",
       "\u001b[0m    \u001b[0mspaced\u001b[0m\u001b[1;33m=\u001b[0m\u001b[1;32mFalse\u001b[0m\u001b[1;33m,\u001b[0m\u001b[1;33m\n",
       "\u001b[0m    \u001b[0myspace\u001b[0m\u001b[1;33m=\u001b[0m\u001b[1;36m20\u001b[0m\u001b[1;33m,\u001b[0m\u001b[1;33m\n",
       "\u001b[0m    \u001b[0mxspace\u001b[0m\u001b[1;33m=\u001b[0m\u001b[1;36m0.1\u001b[0m\u001b[1;33m,\u001b[0m\u001b[1;33m\n",
       "\u001b[0m    \u001b[0mbarfacecoloroption\u001b[0m\u001b[1;33m=\u001b[0m\u001b[1;34m'same'\u001b[0m\u001b[1;33m,\u001b[0m\u001b[1;33m\n",
       "\u001b[0m    \u001b[0mbarfacecolor\u001b[0m\u001b[1;33m=\u001b[0m\u001b[1;33m[\u001b[0m\u001b[1;34m'white'\u001b[0m\u001b[1;33m]\u001b[0m\u001b[1;33m,\u001b[0m\u001b[1;33m\n",
       "\u001b[0m    \u001b[0mbaredgecoloroption\u001b[0m\u001b[1;33m=\u001b[0m\u001b[1;34m'same'\u001b[0m\u001b[1;33m,\u001b[0m\u001b[1;33m\n",
       "\u001b[0m    \u001b[0mbaredgecolor\u001b[0m\u001b[1;33m=\u001b[0m\u001b[1;33m[\u001b[0m\u001b[1;34m'black'\u001b[0m\u001b[1;33m]\u001b[0m\u001b[1;33m,\u001b[0m\u001b[1;33m\n",
       "\u001b[0m    \u001b[0mbaralpha\u001b[0m\u001b[1;33m=\u001b[0m\u001b[1;36m1\u001b[0m\u001b[1;33m,\u001b[0m\u001b[1;33m\n",
       "\u001b[0m    \u001b[0mscatterfacecoloroption\u001b[0m\u001b[1;33m=\u001b[0m\u001b[1;34m'same'\u001b[0m\u001b[1;33m,\u001b[0m\u001b[1;33m\n",
       "\u001b[0m    \u001b[0mscatterfacecolor\u001b[0m\u001b[1;33m=\u001b[0m\u001b[1;33m[\u001b[0m\u001b[1;34m'white'\u001b[0m\u001b[1;33m]\u001b[0m\u001b[1;33m,\u001b[0m\u001b[1;33m\n",
       "\u001b[0m    \u001b[0mscatteredgecoloroption\u001b[0m\u001b[1;33m=\u001b[0m\u001b[1;34m'same'\u001b[0m\u001b[1;33m,\u001b[0m\u001b[1;33m\n",
       "\u001b[0m    \u001b[0mscatteredgecolor\u001b[0m\u001b[1;33m=\u001b[0m\u001b[1;33m[\u001b[0m\u001b[1;34m'grey'\u001b[0m\u001b[1;33m]\u001b[0m\u001b[1;33m,\u001b[0m\u001b[1;33m\n",
       "\u001b[0m    \u001b[0mscatterlinecolor\u001b[0m\u001b[1;33m=\u001b[0m\u001b[1;34m'grey'\u001b[0m\u001b[1;33m,\u001b[0m\u001b[1;33m\n",
       "\u001b[0m    \u001b[0mscattersize\u001b[0m\u001b[1;33m=\u001b[0m\u001b[1;36m80\u001b[0m\u001b[1;33m,\u001b[0m\u001b[1;33m\n",
       "\u001b[0m    \u001b[0mscatteralpha\u001b[0m\u001b[1;33m=\u001b[0m\u001b[1;36m1\u001b[0m\u001b[1;33m,\u001b[0m\u001b[1;33m\n",
       "\u001b[0m    \u001b[0mspreadscatters\u001b[0m\u001b[1;33m=\u001b[0m\u001b[1;32mFalse\u001b[0m\u001b[1;33m,\u001b[0m\u001b[1;33m\n",
       "\u001b[0m    \u001b[0mlinewidth\u001b[0m\u001b[1;33m=\u001b[0m\u001b[1;36m0.75\u001b[0m\u001b[1;33m,\u001b[0m\u001b[1;33m\n",
       "\u001b[0m    \u001b[0mxlim\u001b[0m\u001b[1;33m=\u001b[0m\u001b[1;33m[\u001b[0m\u001b[1;33m]\u001b[0m\u001b[1;33m,\u001b[0m\u001b[1;33m\n",
       "\u001b[0m    \u001b[0mylim\u001b[0m\u001b[1;33m=\u001b[0m\u001b[1;33m[\u001b[0m\u001b[1;33m]\u001b[0m\u001b[1;33m,\u001b[0m\u001b[1;33m\n",
       "\u001b[0m    \u001b[0mylabel\u001b[0m\u001b[1;33m=\u001b[0m\u001b[1;34m'none'\u001b[0m\u001b[1;33m,\u001b[0m\u001b[1;33m\n",
       "\u001b[0m    \u001b[0mxlabel\u001b[0m\u001b[1;33m=\u001b[0m\u001b[1;34m'none'\u001b[0m\u001b[1;33m,\u001b[0m\u001b[1;33m\n",
       "\u001b[0m    \u001b[0mgrouplabel\u001b[0m\u001b[1;33m=\u001b[0m\u001b[1;34m'auto'\u001b[0m\u001b[1;33m,\u001b[0m\u001b[1;33m\n",
       "\u001b[0m    \u001b[0mitemlabel\u001b[0m\u001b[1;33m=\u001b[0m\u001b[1;34m'none'\u001b[0m\u001b[1;33m,\u001b[0m\u001b[1;33m\n",
       "\u001b[0m    \u001b[0mbarlabels\u001b[0m\u001b[1;33m=\u001b[0m\u001b[1;33m[\u001b[0m\u001b[1;33m]\u001b[0m\u001b[1;33m,\u001b[0m\u001b[1;33m\n",
       "\u001b[0m    \u001b[0mbarlabeloffset\u001b[0m\u001b[1;33m=\u001b[0m\u001b[1;36m0.025\u001b[0m\u001b[1;33m,\u001b[0m\u001b[1;33m\n",
       "\u001b[0m    \u001b[0mgrouplabeloffset\u001b[0m\u001b[1;33m=\u001b[0m\u001b[1;36m0\u001b[0m\u001b[1;33m,\u001b[0m\u001b[1;33m\n",
       "\u001b[0m    \u001b[0myaxisparams\u001b[0m\u001b[1;33m=\u001b[0m\u001b[1;34m'auto'\u001b[0m\u001b[1;33m,\u001b[0m\u001b[1;33m\n",
       "\u001b[0m    \u001b[0mshow_legend\u001b[0m\u001b[1;33m=\u001b[0m\u001b[1;34m'none'\u001b[0m\u001b[1;33m,\u001b[0m\u001b[1;33m\n",
       "\u001b[0m    \u001b[0mlegendloc\u001b[0m\u001b[1;33m=\u001b[0m\u001b[1;34m'upper right'\u001b[0m\u001b[1;33m,\u001b[0m\u001b[1;33m\n",
       "\u001b[0m    \u001b[0mxfontsize\u001b[0m\u001b[1;33m=\u001b[0m\u001b[1;36m8\u001b[0m\u001b[1;33m,\u001b[0m\u001b[1;33m\n",
       "\u001b[0m    \u001b[0max\u001b[0m\u001b[1;33m=\u001b[0m\u001b[1;33m[\u001b[0m\u001b[1;33m]\u001b[0m\u001b[1;33m,\u001b[0m\u001b[1;33m\n",
       "\u001b[0m\u001b[1;33m)\u001b[0m\u001b[1;33m\u001b[0m\u001b[1;33m\u001b[0m\u001b[0m\n",
       "\u001b[1;31mDocstring:\u001b[0m\n",
       "Description: Creates a bar graph with data points shown as overlaid circles.\n",
       "\n",
       "Args:\n",
       "    data - Required. Should be a list (or list of lists) or an array. Will try to convert if needed.\n",
       "    barwidth - width if bars, default=0.9\n",
       "    paired - attempts to add lines between paired data points, default=False\n",
       "    unequal - Boolean, set to True if groups are unequal, default=False\n",
       "    spaced - spaces out data points so that they are not at an identical x value, default=False\n",
       "    yspace - used in conjunction with spaced to determine spacing of data points, defalt=20\n",
       "    xspace - used in conjunction with spaced to determine spacing of data points, defalt=0.1\n",
       "    barfacecoloroption - chooses bar color option, default='same' other options are 'between' or 'individual'\n",
       "    barfacecolor - list of bar face colors, if 'between' or 'individual' is chosen for above option then number of colors needs to match number of bars or groups. defalt=['white']\n",
       "    baredgecoloroption - chooses bar edge option, default='same', see notes on barfacecoloroption\n",
       "    baredgecolor - list of bar edge colors, defalt=['black'], see notes on barfacecolor\n",
       "    baralpha - sets opacity of bars, default=1\n",
       "    scatterfacecoloroption - chooses scatter face option, default='same', see notes on barfacecoloroption\n",
       "    scatterfacecolor - list of scatter face colors, defalt=['white'], see notes on barfacecolor\n",
       "    scatteredgecoloroption - chooses scatter edge option, default='same', see notes on barfacecoloroption\n",
       "    scatteredgecolor - list of scatter face colors, defalt=['grey'], see notes on barfacecolor\n",
       "    scatterlinecolor - color of lines connecting related data points, should not be in a list, default='grey'\n",
       "    scattersize - size of datapoints, default=80\n",
       "    scatteralpha -sets opacity of scatter points, default=1\n",
       "    spreadscatters - to be checked!\n",
       "    linewidth - width of lines, default=0.75\n",
       "    xlim - sets x limits, default=[]\n",
       "    ylim - sets y limits, default=[]\n",
       "    ylabel - sets y axis label, default='none'\n",
       "    xlabel - sets x axis label, default='none',\n",
       "    grouplabel - sets labels for each group, default='auto'\n",
       "    itemlabel - to be checked! default='none',\n",
       "    barlabels - sets labels for each bar, default=[]\n",
       "    barlabeloffset - sets barlabels offset to x baseline, default=0.025\n",
       "    grouplabeloffset - sets grouplabels offset to x baseline, default=0.0250,\n",
       "    yaxisparams - to be checked!\n",
       "    show_legend - shows legend, default='none'\n",
       "    legendloc - sets legend location, default='upper right'\n",
       "    xfontsize - sets x axis font size, default=8\n",
       "    ax - plots in axis object if provided, default=[]\n",
       "\n",
       "Returns:\n",
       "    ax - axis object\n",
       "    barx - x values where each bar is plotted\n",
       "    barlist - list of bar containers (can be modified)\n",
       "    sclist - list of scatter containers (can be modified)\n",
       "\u001b[1;31mFile:\u001b[0m      c:\\users\\hta031\\anaconda3\\lib\\site-packages\\trompy\\barscatter.py\n",
       "\u001b[1;31mType:\u001b[0m      function\n"
      ]
     },
     "metadata": {},
     "output_type": "display_data"
    }
   ],
   "source": [
    "tp.barscatter?"
   ]
  },
  {
   "cell_type": "code",
   "execution_count": null,
   "id": "5d82a065-68a3-4d96-96f9-1f8dd628c69f",
   "metadata": {},
   "outputs": [],
   "source": []
  }
 ],
 "metadata": {
  "kernelspec": {
   "display_name": "Python 3",
   "language": "python",
   "name": "python3"
  },
  "language_info": {
   "codemirror_mode": {
    "name": "ipython",
    "version": 3
   },
   "file_extension": ".py",
   "mimetype": "text/x-python",
   "name": "python",
   "nbconvert_exporter": "python",
   "pygments_lexer": "ipython3",
   "version": "3.8.8"
  }
 },
 "nbformat": 4,
 "nbformat_minor": 5
}
